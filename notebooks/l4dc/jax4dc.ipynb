{
 "cells": [
  {
   "cell_type": "markdown",
   "id": "15abe799",
   "metadata": {},
   "source": [
    "Copyright 2023 Google LLC\n",
    "\n",
    "Licensed under the Apache License, Version 2.0 (the \"License\");\n",
    "you may not use this file except in compliance with the License.\n",
    "You may obtain a copy of the License at\n",
    "\n",
    "    https://www.apache.org/licenses/LICENSE-2.0\n",
    "\n",
    "Unless required by applicable law or agreed to in writing, software\n",
    "distributed under the License is distributed on an \"AS IS\" BASIS,\n",
    "WITHOUT WARRANTIES OR CONDITIONS OF ANY KIND, either express or implied.\n",
    "See the License for the specific language governing permissions and\n",
    "limitations under the License."
   ]
  },
  {
   "cell_type": "markdown",
   "id": "12e802ee",
   "metadata": {},
   "source": [
    "# jax4dc Part I: Trajectory optimization in Jax\n",
    "\n",
    "This notebook accompanies the first part of the jax4dc tutorial presented at [L4DC 2023](https://l4dc.seas.upenn.edu/tutorials/).\n",
    "\n",
    "Authors: Roy Frostig, Sumeet Singh, and Stephen Tu"
   ]
  },
  {
   "cell_type": "code",
   "execution_count": 1,
   "id": "ea060cb3",
   "metadata": {},
   "outputs": [
    {
     "name": "stdout",
     "output_type": "stream",
     "text": [
      "Collecting git+https://github.com/google/trajax (from -r requirements.txt (line 11))\n",
      "  Cloning https://github.com/google/trajax to /tmp/pip-req-build-7qhd3lj4\n",
      "  Running command git clone --filter=blob:none --quiet https://github.com/google/trajax /tmp/pip-req-build-7qhd3lj4\n",
      "  Resolved https://github.com/google/trajax to commit c94a637c5a397b3d4100153f25b4b165507b5b20\n",
      "  Installing build dependencies ... \u001b[?25l  Resolved https://github.com/google/trajax to commit c94a637c5a397b3d4100153f25b4b165507b5b20\n",
      "  Installing build dependencies ... \u001b[?25l-done\n",
      "\u001b[?25h  Getting requirements to build wheel ... \u001b[?25done\n",
      "\u001b[?25h  Getting requirements to build wheel ... \u001b[?25ldone\n",
      "\u001b[?25h  Preparing metadata (pyproject.toml) ... \u001b[?25ldone\n",
      "\u001b[?25h  Preparing metadata (pyproject.toml) ... \u001b[?25l-done\n",
      "\u001b[?25hRequirement already satisfied: jax in /home/andrea-ostuni/jax_ws/.venv_jax/lib/python3.10/site-packages (from -r requirements.txt (line 1)) (0.6.2)\n",
      "Requirement already satisfied: chex in /home/andrea-ostuni/jax_ws/.venv_jax/lib/python3.10/site-packages (from -r requirements.txt (line 2)) (0.1.90)\n",
      "Requirement already satisfied: flax in /home/andrea-ostuni/jax_ws/.venv_jax/lib/python3.10/site-packages (from -r requirements.txt (line 3)) (0.10.7)\n",
      "Requirement already satisfied: numpy in /home/andrea-ostuni/jax_ws/.venv_jax/lib/python3.10/site-packages (from -r requirements.txt (line 4)) (2.2.6)\n",
      "Requirement already satisfied: scipy in /home/andrea-ostuni/jax_ws/.venv_jax/lib/python3.10/site-packages (from -r requirements.txt (line 5)) (1.15.3)\n",
      "Requirement already satisfied: matplotlib in /home/andrea-ostuni/jax_ws/.venv_jax/lib/python3.10/site-packages (from -r requirements.txt (line 6)) (3.10.7)\n",
      "Requirement already satisfied: optax in /home/andrea-ostuni/jax_ws/.venv_jax/lib/python3.10/site-packages (from -r requirements.txt (line 7)) (0.2.6)\n",
      "Requirement already satisfied: tqdm in /home/andrea-ostuni/jax_ws/.venv_jax/lib/python3.10/site-packages (from -r requirements.txt (line 8)) (4.67.1)\n",
      "Requirement already satisfied: brax in /home/andrea-ostuni/jax_ws/.venv_jax/lib/python3.10/site-packages (from -r requirements.txt (line 9)) (0.13.0)\n",
      "Requirement already satisfied: cvxpy in /home/andrea-ostuni/jax_ws/.venv_jax/lib/python3.10/site-packages (from -r requirements.txt (line 10)) (1.7.3)\n",
      "Requirement already satisfied: absl-py>=0.7.0 in /home/andrea-ostuni/jax_ws/.venv_jax/lib/python3.10/site-packages (from trajax==0.0.1->-r requirements.txt (line 11)) (2.3.1)\n",
      "Requirement already satisfied: jaxlib>=0.1.69 in /home/andrea-ostuni/jax_ws/.venv_jax/lib/python3.10/site-packages (from trajax==0.0.1->-r requirements.txt (line 11)) (0.6.2)\n",
      "Requirement already satisfied: ml_collections>=0.1.1 in /home/andrea-ostuni/jax_ws/.venv_jax/lib/python3.10/site-packages (from trajax==0.0.1->-r requirements.txt (line 11)) (1.1.0)\n",
      "Requirement already satisfied: ml_dtypes>=0.5.0 in /home/andrea-ostuni/jax_ws/.venv_jax/lib/python3.10/site-packages (from jax->-r requirements.txt (line 1)) (0.5.3)\n",
      "Requirement already satisfied: opt_einsum in /home/andrea-ostuni/jax_ws/.venv_jax/lib/python3.10/site-packages (from jax->-r requirements.txt (line 1)) (3.4.0)\n",
      "Requirement already satisfied: typing_extensions>=4.2.0 in /home/andrea-ostuni/jax_ws/.venv_jax/lib/python3.10/site-packages (from chex->-r requirements.txt (line 2)) (4.15.0)\n",
      "Requirement already satisfied: toolz>=0.9.0 in /home/andrea-ostuni/jax_ws/.venv_jax/lib/python3.10/site-packages (from chex->-r requirements.txt (line 2)) (1.1.0)\n",
      "Requirement already satisfied: msgpack in /home/andrea-ostuni/jax_ws/.venv_jax/lib/python3.10/site-packages (from flax->-r requirements.txt (line 3)) (1.1.2)\n",
      "Requirement already satisfied: orbax-checkpoint in /home/andrea-ostuni/jax_ws/.venv_jax/lib/python3.10/site-packages (from flax->-r requirements.txt (line 3)) (0.11.26)\n",
      "Requirement already satisfied: tensorstore in /home/andrea-ostuni/jax_ws/.venv_jax/lib/python3.10/site-packages (from flax->-r requirements.txt (line 3)) (0.1.78)\n",
      "Requirement already satisfied: rich>=11.1 in /home/andrea-ostuni/jax_ws/.venv_jax/lib/python3.10/site-packages (from flax->-r requirements.txt (line 3)) (14.2.0)\n",
      "Requirement already satisfied: PyYAML>=5.4.1 in /home/andrea-ostuni/jax_ws/.venv_jax/lib/python3.10/site-packages (from flax->-r requirements.txt (line 3)) (6.0.3)\n",
      "Requirement already satisfied: treescope>=0.1.7 in /home/andrea-ostuni/jax_ws/.venv_jax/lib/python3.10/site-packages (from flax->-r requirements.txt (line 3)) (0.1.10)\n",
      "Requirement already satisfied: contourpy>=1.0.1 in /home/andrea-ostuni/jax_ws/.venv_jax/lib/python3.10/site-packages (from matplotlib->-r requirements.txt (line 6)) (1.3.2)\n",
      "Requirement already satisfied: cycler>=0.10 in /home/andrea-ostuni/jax_ws/.venv_jax/lib/python3.10/site-packages (from matplotlib->-r requirements.txt (line 6)) (0.12.1)\n",
      "Requirement already satisfied: fonttools>=4.22.0 in /home/andrea-ostuni/jax_ws/.venv_jax/lib/python3.10/site-packages (from matplotlib->-r requirements.txt (line 6)) (4.60.1)\n",
      "Requirement already satisfied: kiwisolver>=1.3.1 in /home/andrea-ostuni/jax_ws/.venv_jax/lib/python3.10/site-packages (from matplotlib->-r requirements.txt (line 6)) (1.4.9)\n",
      "Requirement already satisfied: packaging>=20.0 in /home/andrea-ostuni/jax_ws/.venv_jax/lib/python3.10/site-packages (from matplotlib->-r requirements.txt (line 6)) (25.0)\n",
      "Requirement already satisfied: pillow>=8 in /home/andrea-ostuni/jax_ws/.venv_jax/lib/python3.10/site-packages (from matplotlib->-r requirements.txt (line 6)) (12.0.0)\n",
      "Requirement already satisfied: pyparsing>=3 in /home/andrea-ostuni/jax_ws/.venv_jax/lib/python3.10/site-packages (from matplotlib->-r requirements.txt (line 6)) (3.2.5)\n",
      "Requirement already satisfied: python-dateutil>=2.7 in /home/andrea-ostuni/jax_ws/.venv_jax/lib/python3.10/site-packages (from matplotlib->-r requirements.txt (line 6)) (2.9.0.post0)\n",
      "Requirement already satisfied: etils in /home/andrea-ostuni/jax_ws/.venv_jax/lib/python3.10/site-packages (from brax->-r requirements.txt (line 9)) (1.13.0)\n",
      "Requirement already satisfied: flask in /home/andrea-ostuni/jax_ws/.venv_jax/lib/python3.10/site-packages (from brax->-r requirements.txt (line 9)) (3.1.2)\n",
      "Requirement already satisfied: flask-cors in /home/andrea-ostuni/jax_ws/.venv_jax/lib/python3.10/site-packages (from brax->-r requirements.txt (line 9)) (6.0.1)\n",
      "\bdone\n",
      "\u001b[?25hRequirement already satisfied: jax in /home/andrea-ostuni/jax_ws/.venv_jax/lib/python3.10/site-packages (from -r requirements.txt (line 1)) (0.6.2)\n",
      "Requirement already satisfied: chex in /home/andrea-ostuni/jax_ws/.venv_jax/lib/python3.10/site-packages (from -r requirements.txt (line 2)) (0.1.90)\n",
      "Requirement already satisfied: flax in /home/andrea-ostuni/jax_ws/.venv_jax/lib/python3.10/site-packages (from -r requirements.txt (line 3)) (0.10.7)\n",
      "Requirement already satisfied: numpy in /home/andrea-ostuni/jax_ws/.venv_jax/lib/python3.10/site-packages (from -r requirements.txt (line 4)) (2.2.6)\n",
      "Requirement already satisfied: scipy in /home/andrea-ostuni/jax_ws/.venv_jax/lib/python3.10/site-packages (from -r requirements.txt (line 5)) (1.15.3)\n",
      "Requirement already satisfied: matplotlib in /home/andrea-ostuni/jax_ws/.venv_jax/lib/python3.10/site-packages (from -r requirements.txt (line 6)) (3.10.7)\n",
      "Requirement already satisfied: optax in /home/andrea-ostuni/jax_ws/.venv_jax/lib/python3.10/site-packages (from -r requirements.txt (line 7)) (0.2.6)\n",
      "Requirement already satisfied: tqdm in /home/andrea-ostuni/jax_ws/.venv_jax/lib/python3.10/site-packages (from -r requirements.txt (line 8)) (4.67.1)\n",
      "Requirement already satisfied: brax in /home/andrea-ostuni/jax_ws/.venv_jax/lib/python3.10/site-packages (from -r requirements.txt (line 9)) (0.13.0)\n",
      "Requirement already satisfied: cvxpy in /home/andrea-ostuni/jax_ws/.venv_jax/lib/python3.10/site-packages (from -r requirements.txt (line 10)) (1.7.3)\n",
      "Requirement already satisfied: absl-py>=0.7.0 in /home/andrea-ostuni/jax_ws/.venv_jax/lib/python3.10/site-packages (from trajax==0.0.1->-r requirements.txt (line 11)) (2.3.1)\n",
      "Requirement already satisfied: jaxlib>=0.1.69 in /home/andrea-ostuni/jax_ws/.venv_jax/lib/python3.10/site-packages (from trajax==0.0.1->-r requirements.txt (line 11)) (0.6.2)\n",
      "Requirement already satisfied: ml_collections>=0.1.1 in /home/andrea-ostuni/jax_ws/.venv_jax/lib/python3.10/site-packages (from trajax==0.0.1->-r requirements.txt (line 11)) (1.1.0)\n",
      "Requirement already satisfied: ml_dtypes>=0.5.0 in /home/andrea-ostuni/jax_ws/.venv_jax/lib/python3.10/site-packages (from jax->-r requirements.txt (line 1)) (0.5.3)\n",
      "Requirement already satisfied: opt_einsum in /home/andrea-ostuni/jax_ws/.venv_jax/lib/python3.10/site-packages (from jax->-r requirements.txt (line 1)) (3.4.0)\n",
      "Requirement already satisfied: typing_extensions>=4.2.0 in /home/andrea-ostuni/jax_ws/.venv_jax/lib/python3.10/site-packages (from chex->-r requirements.txt (line 2)) (4.15.0)\n",
      "Requirement already satisfied: toolz>=0.9.0 in /home/andrea-ostuni/jax_ws/.venv_jax/lib/python3.10/site-packages (from chex->-r requirements.txt (line 2)) (1.1.0)\n",
      "Requirement already satisfied: msgpack in /home/andrea-ostuni/jax_ws/.venv_jax/lib/python3.10/site-packages (from flax->-r requirements.txt (line 3)) (1.1.2)\n",
      "Requirement already satisfied: orbax-checkpoint in /home/andrea-ostuni/jax_ws/.venv_jax/lib/python3.10/site-packages (from flax->-r requirements.txt (line 3)) (0.11.26)\n",
      "Requirement already satisfied: tensorstore in /home/andrea-ostuni/jax_ws/.venv_jax/lib/python3.10/site-packages (from flax->-r requirements.txt (line 3)) (0.1.78)\n",
      "Requirement already satisfied: rich>=11.1 in /home/andrea-ostuni/jax_ws/.venv_jax/lib/python3.10/site-packages (from flax->-r requirements.txt (line 3)) (14.2.0)\n",
      "Requirement already satisfied: PyYAML>=5.4.1 in /home/andrea-ostuni/jax_ws/.venv_jax/lib/python3.10/site-packages (from flax->-r requirements.txt (line 3)) (6.0.3)\n",
      "Requirement already satisfied: treescope>=0.1.7 in /home/andrea-ostuni/jax_ws/.venv_jax/lib/python3.10/site-packages (from flax->-r requirements.txt (line 3)) (0.1.10)\n",
      "Requirement already satisfied: contourpy>=1.0.1 in /home/andrea-ostuni/jax_ws/.venv_jax/lib/python3.10/site-packages (from matplotlib->-r requirements.txt (line 6)) (1.3.2)\n",
      "Requirement already satisfied: cycler>=0.10 in /home/andrea-ostuni/jax_ws/.venv_jax/lib/python3.10/site-packages (from matplotlib->-r requirements.txt (line 6)) (0.12.1)\n",
      "Requirement already satisfied: fonttools>=4.22.0 in /home/andrea-ostuni/jax_ws/.venv_jax/lib/python3.10/site-packages (from matplotlib->-r requirements.txt (line 6)) (4.60.1)\n",
      "Requirement already satisfied: kiwisolver>=1.3.1 in /home/andrea-ostuni/jax_ws/.venv_jax/lib/python3.10/site-packages (from matplotlib->-r requirements.txt (line 6)) (1.4.9)\n",
      "Requirement already satisfied: packaging>=20.0 in /home/andrea-ostuni/jax_ws/.venv_jax/lib/python3.10/site-packages (from matplotlib->-r requirements.txt (line 6)) (25.0)\n",
      "Requirement already satisfied: pillow>=8 in /home/andrea-ostuni/jax_ws/.venv_jax/lib/python3.10/site-packages (from matplotlib->-r requirements.txt (line 6)) (12.0.0)\n",
      "Requirement already satisfied: pyparsing>=3 in /home/andrea-ostuni/jax_ws/.venv_jax/lib/python3.10/site-packages (from matplotlib->-r requirements.txt (line 6)) (3.2.5)\n",
      "Requirement already satisfied: python-dateutil>=2.7 in /home/andrea-ostuni/jax_ws/.venv_jax/lib/python3.10/site-packages (from matplotlib->-r requirements.txt (line 6)) (2.9.0.post0)\n",
      "Requirement already satisfied: etils in /home/andrea-ostuni/jax_ws/.venv_jax/lib/python3.10/site-packages (from brax->-r requirements.txt (line 9)) (1.13.0)\n",
      "Requirement already satisfied: flask in /home/andrea-ostuni/jax_ws/.venv_jax/lib/python3.10/site-packages (from brax->-r requirements.txt (line 9)) (3.1.2)\n",
      "Requirement already satisfied: flask-cors in /home/andrea-ostuni/jax_ws/.venv_jax/lib/python3.10/site-packages (from brax->-r requirements.txt (line 9)) (6.0.1)\n",
      "Requirement already satisfied: jaxopt in /home/andrea-ostuni/jax_ws/.venv_jax/lib/python3.10/site-packages (from brax->-r requirements.txt (line 9)) (0.8.5)\n",
      "Requirement already satisfied: jinja2 in /home/andrea-ostuni/jax_ws/.venv_jax/lib/python3.10/site-packages (from brax->-r requirements.txt (line 9)) (3.1.6)\n",
      "Requirement already satisfied: mujoco in /home/andrea-ostuni/jax_ws/.venv_jax/lib/python3.10/site-packages (from brax->-r requirements.txt (line 9)) (3.3.7)\n",
      "Requirement already satisfied: mujoco-mjx in /home/andrea-ostuni/jax_ws/.venv_jax/lib/python3.10/site-packages (from brax->-r requirements.txt (line 9)) (3.3.7)\n",
      "Requirement already satisfied: tensorboardx in /home/andrea-ostuni/jax_ws/.venv_jax/lib/python3.10/site-packages (from brax->-r requirements.txt (line 9)) (2.6.4)\n",
      "Requirement already satisfied: trimesh in /home/andrea-ostuni/jax_ws/.venv_jax/lib/python3.10/site-packages (from brax->-r requirements.txt (line 9)) (4.9.0)\n",
      "Requirement already satisfied: osqp>=1.0.0 in /home/andrea-ostuni/jax_ws/.venv_jax/lib/python3.10/site-packages (from cvxpy->-r requirements.txt (line 10)) (1.0.5)\n",
      "Requirement already satisfied: clarabel>=0.5.0 in /home/andrea-ostuni/jax_ws/.venv_jax/lib/python3.10/site-packages (from cvxpy->-r requirements.txt (line 10)) (0.11.1)\n",
      "Requirement already satisfied: scs>=3.2.4.post1 in /home/andrea-ostuni/jax_ws/.venv_jax/lib/python3.10/site-packages (from cvxpy->-r requirements.txt (line 10)) (3.2.9)\n",
      "Requirement already satisfied: cffi in /home/andrea-ostuni/jax_ws/.venv_jax/lib/python3.10/site-packages (from clarabel>=0.5.0->cvxpy->-r requirements.txt (line 10)) (2.0.0)\n",
      "Requirement already satisfied: nest_asyncio in /home/andrea-ostuni/jax_ws/.venv_jax/lib/python3.10/site-packages (from orbax-checkpoint->flax->-r requirements.txt (line 3)) (1.6.0)\n",
      "Requirement already satisfied: aiofiles in /home/andrea-ostuni/jax_ws/.venv_jax/lib/python3.10/site-packages (from orbax-checkpoint->flax->-r requirements.txt (line 3)) (25.1.0)\n",
      "Requirement already satisfied: protobuf in /home/andrea-ostuni/jax_ws/.venv_jax/lib/python3.10/site-packages (from orbax-checkpoint->flax->-r requirements.txt (line 3)) (6.33.0)\n",
      "Requirement already satisfied: humanize in /home/andrea-ostuni/jax_ws/.venv_jax/lib/python3.10/site-packages (from orbax-checkpoint->flax->-r requirements.txt (line 3)) (4.14.0)\n",
      "Requirement already satisfied: simplejson>=3.16.0 in /home/andrea-ostuni/jax_ws/.venv_jax/lib/python3.10/site-packages (from orbax-checkpoint->flax->-r requirements.txt (line 3)) (3.20.2)\n",
      "Requirement already satisfied: psutil in /home/andrea-ostuni/jax_ws/.venv_jax/lib/python3.10/site-packages (from orbax-checkpoint->flax->-r requirements.txt (line 3)) (7.1.2)\n",
      "Requirement already satisfied: setuptools in /home/andrea-ostuni/jax_ws/.venv_jax/lib/python3.10/site-packages (from osqp>=1.0.0->cvxpy->-r requirements.txt (line 10)) (59.6.0)\n",
      "Requirement already satisfied: joblib in /home/andrea-ostuni/jax_ws/.venv_jax/lib/python3.10/site-packages (from osqp>=1.0.0->cvxpy->-r requirements.txt (line 10)) (1.5.2)\n",
      "Requirement already satisfied: six>=1.5 in /home/andrea-ostuni/jax_ws/.venv_jax/lib/python3.10/site-packages (from python-dateutil>=2.7->matplotlib->-r requirements.txt (line 6)) (1.17.0)\n",
      "Requirement already satisfied: markdown-it-py>=2.2.0 in /home/andrea-ostuni/jax_ws/.venv_jax/lib/python3.10/site-packages (from rich>=11.1->flax->-r requirements.txt (line 3)) (4.0.0)\n",
      "Requirement already satisfied: pygments<3.0.0,>=2.13.0 in /home/andrea-ostuni/jax_ws/.venv_jax/lib/python3.10/site-packages (from rich>=11.1->flax->-r requirements.txt (line 3)) (2.19.2)\n",
      "Requirement already satisfied: mdurl~=0.1 in /home/andrea-ostuni/jax_ws/.venv_jax/lib/python3.10/site-packages (from markdown-it-py>=2.2.0->rich>=11.1->flax->-r requirements.txt (line 3)) (0.1.2)\n",
      "Requirement already satisfied: pycparser in /home/andrea-ostuni/jax_ws/.venv_jax/lib/python3.10/site-packages (from cffi->clarabel>=0.5.0->cvxpy->-r requirements.txt (line 10)) (2.23)\n",
      "Requirement already satisfied: jaxopt in /home/andrea-ostuni/jax_ws/.venv_jax/lib/python3.10/site-packages (from brax->-r requirements.txt (line 9)) (0.8.5)\n",
      "Requirement already satisfied: jinja2 in /home/andrea-ostuni/jax_ws/.venv_jax/lib/python3.10/site-packages (from brax->-r requirements.txt (line 9)) (3.1.6)\n",
      "Requirement already satisfied: mujoco in /home/andrea-ostuni/jax_ws/.venv_jax/lib/python3.10/site-packages (from brax->-r requirements.txt (line 9)) (3.3.7)\n",
      "Requirement already satisfied: mujoco-mjx in /home/andrea-ostuni/jax_ws/.venv_jax/lib/python3.10/site-packages (from brax->-r requirements.txt (line 9)) (3.3.7)\n",
      "Requirement already satisfied: tensorboardx in /home/andrea-ostuni/jax_ws/.venv_jax/lib/python3.10/site-packages (from brax->-r requirements.txt (line 9)) (2.6.4)\n",
      "Requirement already satisfied: trimesh in /home/andrea-ostuni/jax_ws/.venv_jax/lib/python3.10/site-packages (from brax->-r requirements.txt (line 9)) (4.9.0)\n",
      "Requirement already satisfied: osqp>=1.0.0 in /home/andrea-ostuni/jax_ws/.venv_jax/lib/python3.10/site-packages (from cvxpy->-r requirements.txt (line 10)) (1.0.5)\n",
      "Requirement already satisfied: clarabel>=0.5.0 in /home/andrea-ostuni/jax_ws/.venv_jax/lib/python3.10/site-packages (from cvxpy->-r requirements.txt (line 10)) (0.11.1)\n",
      "Requirement already satisfied: scs>=3.2.4.post1 in /home/andrea-ostuni/jax_ws/.venv_jax/lib/python3.10/site-packages (from cvxpy->-r requirements.txt (line 10)) (3.2.9)\n",
      "Requirement already satisfied: cffi in /home/andrea-ostuni/jax_ws/.venv_jax/lib/python3.10/site-packages (from clarabel>=0.5.0->cvxpy->-r requirements.txt (line 10)) (2.0.0)\n",
      "Requirement already satisfied: nest_asyncio in /home/andrea-ostuni/jax_ws/.venv_jax/lib/python3.10/site-packages (from orbax-checkpoint->flax->-r requirements.txt (line 3)) (1.6.0)\n",
      "Requirement already satisfied: aiofiles in /home/andrea-ostuni/jax_ws/.venv_jax/lib/python3.10/site-packages (from orbax-checkpoint->flax->-r requirements.txt (line 3)) (25.1.0)\n",
      "Requirement already satisfied: protobuf in /home/andrea-ostuni/jax_ws/.venv_jax/lib/python3.10/site-packages (from orbax-checkpoint->flax->-r requirements.txt (line 3)) (6.33.0)\n",
      "Requirement already satisfied: humanize in /home/andrea-ostuni/jax_ws/.venv_jax/lib/python3.10/site-packages (from orbax-checkpoint->flax->-r requirements.txt (line 3)) (4.14.0)\n",
      "Requirement already satisfied: simplejson>=3.16.0 in /home/andrea-ostuni/jax_ws/.venv_jax/lib/python3.10/site-packages (from orbax-checkpoint->flax->-r requirements.txt (line 3)) (3.20.2)\n",
      "Requirement already satisfied: psutil in /home/andrea-ostuni/jax_ws/.venv_jax/lib/python3.10/site-packages (from orbax-checkpoint->flax->-r requirements.txt (line 3)) (7.1.2)\n",
      "Requirement already satisfied: setuptools in /home/andrea-ostuni/jax_ws/.venv_jax/lib/python3.10/site-packages (from osqp>=1.0.0->cvxpy->-r requirements.txt (line 10)) (59.6.0)\n",
      "Requirement already satisfied: joblib in /home/andrea-ostuni/jax_ws/.venv_jax/lib/python3.10/site-packages (from osqp>=1.0.0->cvxpy->-r requirements.txt (line 10)) (1.5.2)\n",
      "Requirement already satisfied: six>=1.5 in /home/andrea-ostuni/jax_ws/.venv_jax/lib/python3.10/site-packages (from python-dateutil>=2.7->matplotlib->-r requirements.txt (line 6)) (1.17.0)\n",
      "Requirement already satisfied: markdown-it-py>=2.2.0 in /home/andrea-ostuni/jax_ws/.venv_jax/lib/python3.10/site-packages (from rich>=11.1->flax->-r requirements.txt (line 3)) (4.0.0)\n",
      "Requirement already satisfied: pygments<3.0.0,>=2.13.0 in /home/andrea-ostuni/jax_ws/.venv_jax/lib/python3.10/site-packages (from rich>=11.1->flax->-r requirements.txt (line 3)) (2.19.2)\n",
      "Requirement already satisfied: mdurl~=0.1 in /home/andrea-ostuni/jax_ws/.venv_jax/lib/python3.10/site-packages (from markdown-it-py>=2.2.0->rich>=11.1->flax->-r requirements.txt (line 3)) (0.1.2)\n",
      "Requirement already satisfied: pycparser in /home/andrea-ostuni/jax_ws/.venv_jax/lib/python3.10/site-packages (from cffi->clarabel>=0.5.0->cvxpy->-r requirements.txt (line 10)) (2.23)\n",
      "Requirement already satisfied: fsspec in /home/andrea-ostuni/jax_ws/.venv_jax/lib/python3.10/site-packages (from etils[epath,epy]->orbax-checkpoint->flax->-r requirements.txt (line 3)) (2025.9.0)\n",
      "Requirement already satisfied: importlib_resources in /home/andrea-ostuni/jax_ws/.venv_jax/lib/python3.10/site-packages (from etils[epath,epy]->orbax-checkpoint->flax->-r requirements.txt (line 3)) (6.5.2)\n",
      "Requirement already satisfied: zipp in /home/andrea-ostuni/jax_ws/.venv_jax/lib/python3.10/site-packages (from etils[epath,epy]->orbax-checkpoint->flax->-r requirements.txt (line 3)) (3.23.0)\n",
      "Requirement already satisfied: blinker>=1.9.0 in /home/andrea-ostuni/jax_ws/.venv_jax/lib/python3.10/site-packages (from flask->brax->-r requirements.txt (line 9)) (1.9.0)\n",
      "Requirement already satisfied: click>=8.1.3 in /home/andrea-ostuni/jax_ws/.venv_jax/lib/python3.10/site-packages (from flask->brax->-r requirements.txt (line 9)) (8.3.0)\n",
      "Requirement already satisfied: itsdangerous>=2.2.0 in /home/andrea-ostuni/jax_ws/.venv_jax/lib/python3.10/site-packages (from flask->brax->-r requirements.txt (line 9)) (2.2.0)\n",
      "Requirement already satisfied: markupsafe>=2.1.1 in /home/andrea-ostuni/jax_ws/.venv_jax/lib/python3.10/site-packages (from flask->brax->-r requirements.txt (line 9)) (3.0.3)\n",
      "Requirement already satisfied: werkzeug>=3.1.0 in /home/andrea-ostuni/jax_ws/.venv_jax/lib/python3.10/site-packages (from flask->brax->-r requirements.txt (line 9)) (3.1.3)\n",
      "Requirement already satisfied: glfw in /home/andrea-ostuni/jax_ws/.venv_jax/lib/python3.10/site-packages (from mujoco->brax->-r requirements.txt (line 9)) (2.10.0)\n",
      "Requirement already satisfied: pyopengl in /home/andrea-ostuni/jax_ws/.venv_jax/lib/python3.10/site-packages (from mujoco->brax->-r requirements.txt (line 9)) (3.1.10)\n",
      "Requirement already satisfied: fsspec in /home/andrea-ostuni/jax_ws/.venv_jax/lib/python3.10/site-packages (from etils[epath,epy]->orbax-checkpoint->flax->-r requirements.txt (line 3)) (2025.9.0)\n",
      "Requirement already satisfied: importlib_resources in /home/andrea-ostuni/jax_ws/.venv_jax/lib/python3.10/site-packages (from etils[epath,epy]->orbax-checkpoint->flax->-r requirements.txt (line 3)) (6.5.2)\n",
      "Requirement already satisfied: zipp in /home/andrea-ostuni/jax_ws/.venv_jax/lib/python3.10/site-packages (from etils[epath,epy]->orbax-checkpoint->flax->-r requirements.txt (line 3)) (3.23.0)\n",
      "Requirement already satisfied: blinker>=1.9.0 in /home/andrea-ostuni/jax_ws/.venv_jax/lib/python3.10/site-packages (from flask->brax->-r requirements.txt (line 9)) (1.9.0)\n",
      "Requirement already satisfied: click>=8.1.3 in /home/andrea-ostuni/jax_ws/.venv_jax/lib/python3.10/site-packages (from flask->brax->-r requirements.txt (line 9)) (8.3.0)\n",
      "Requirement already satisfied: itsdangerous>=2.2.0 in /home/andrea-ostuni/jax_ws/.venv_jax/lib/python3.10/site-packages (from flask->brax->-r requirements.txt (line 9)) (2.2.0)\n",
      "Requirement already satisfied: markupsafe>=2.1.1 in /home/andrea-ostuni/jax_ws/.venv_jax/lib/python3.10/site-packages (from flask->brax->-r requirements.txt (line 9)) (3.0.3)\n",
      "Requirement already satisfied: werkzeug>=3.1.0 in /home/andrea-ostuni/jax_ws/.venv_jax/lib/python3.10/site-packages (from flask->brax->-r requirements.txt (line 9)) (3.1.3)\n",
      "Requirement already satisfied: glfw in /home/andrea-ostuni/jax_ws/.venv_jax/lib/python3.10/site-packages (from mujoco->brax->-r requirements.txt (line 9)) (2.10.0)\n",
      "Requirement already satisfied: pyopengl in /home/andrea-ostuni/jax_ws/.venv_jax/lib/python3.10/site-packages (from mujoco->brax->-r requirements.txt (line 9)) (3.1.10)\n",
      "Note: you may need to restart the kernel to use updated packages.\n",
      "Note: you may need to restart the kernel to use updated packages.\n"
     ]
    }
   ],
   "source": [
    "# install necessary dependencies\n",
    "%pip install -r requirements.txt"
   ]
  },
  {
   "cell_type": "code",
   "execution_count": 5,
   "id": "b59ea58c",
   "metadata": {},
   "outputs": [
    {
     "name": "stdout",
     "output_type": "stream",
     "text": [
      "Failed to import warp: No module named 'warp'\n",
      "Failed to import mujoco_warp: No module named 'warp'\n"
     ]
    }
   ],
   "source": [
    "import jax\n",
    "\n",
    "# from jax.config import config\n",
    "jax.config.update('jax_enable_x64', True)\n",
    "\n",
    "from dataclasses import dataclass\n",
    "from functools import partial\n",
    "from typing import Any, Callable, Sequence\n",
    "\n",
    "import chex\n",
    "from flax import struct\n",
    "import jax.numpy as jnp\n",
    "import jax.scipy as jsp\n",
    "import matplotlib.pylab as plt\n",
    "import numpy as np\n",
    "import pprint\n",
    "import optax\n",
    "import scipy as sp\n",
    "import tqdm\n",
    "import time\n",
    "\n",
    "from brax import envs, State\n",
    "from brax.envs import Env\n",
    "from brax.io import html\n",
    "from optax import OptState, TransformUpdateFn\n",
    "from trajax.integrators import euler\n",
    "from trajax.optimizers import ilqr\n",
    "\n",
    "from IPython.display import HTML, IFrame\n",
    "\n",
    "Array = jax.Array\n",
    "PRNGKey = chex.PRNGKey\n",
    "PyTree = Any\n",
    "Scalar = chex.Scalar"
   ]
  },
  {
   "cell_type": "markdown",
   "id": "e9c547a7",
   "metadata": {},
   "source": [
    "## Building blocks\n",
    "\n",
    "We first build several primitives for optimal control:\n",
    "\n",
    "- `rollout`: given inputs $U$ and initial state $x_0$, rollout a trajectory $X$.\n",
    "- `trajectory_cost`: given a trajectory $X$ generated by inputs $U$, compute the cost. \n",
    "- `objective`: given inputs $U$ and initial state $x_0$, compute the cost of the resulting trajectory.\n",
    "\n",
    "Unlike the tutorial slides, we will work with a more general representation of the state as an abstract [PyTree](https://jax.readthedocs.io/en/latest/pytrees.html). The input remains a concrete `Array`."
   ]
  },
  {
   "cell_type": "code",
   "execution_count": 6,
   "id": "0b6a37b1",
   "metadata": {},
   "outputs": [],
   "source": [
    "# f(t, x, u)\n",
    "Dynamics = Callable[[Scalar, PyTree, Array], PyTree]\n",
    "\n",
    "# c(t, x, u)\n",
    "StageCost = Callable[[Scalar, PyTree, Array], float]\n",
    "# c(t, x)\n",
    "TerminalCost = Callable[[Scalar, PyTree], float]\n",
    "\n",
    "\n",
    "@dataclass\n",
    "class Cost:\n",
    "    stage_cost: StageCost\n",
    "    terminal_cost: TerminalCost\n",
    "\n",
    "\n",
    "def rollout(dynamics: Dynamics, U: Array, x0: PyTree) -> PyTree:\n",
    "    \"\"\"Unrolls `X[t+1] = dynamics(t, X[t], U[t])`, where `X[0] = x0`.\"\"\"\n",
    "\n",
    "    def step(x, args):\n",
    "        t, u = args\n",
    "        x = dynamics(t, x, u)\n",
    "        return x, x  # Return (carry, emitted state)\n",
    "\n",
    "    _, X = jax.lax.scan(step, x0, (jnp.arange(len(U)), U))\n",
    "    return X\n",
    "\n",
    "\n",
    "def trajectory_cost(cost: Cost, U: Array, x0: PyTree, X: PyTree) -> float:\n",
    "    T = len(U)\n",
    "    time_steps = jnp.arange(T)\n",
    "    X = jax.tree.map(\n",
    "        lambda a, b: jnp.concatenate((a[None, :], b), axis=0), x0, X)\n",
    "    stage_cost = jnp.sum(jax.vmap(cost.stage_cost)(\n",
    "        time_steps, jax.tree.map(lambda leaf: leaf[:-1], X), U))\n",
    "    terminal_cost = cost.terminal_cost(\n",
    "        T, jax.tree.map(lambda leaf: leaf[-1], X))\n",
    "    return stage_cost + terminal_cost\n",
    "\n",
    "\n",
    "def objective(\n",
    "    dynamics: Dynamics, cost: Cost, U: Array, x0: PyTree\n",
    ") -> float:\n",
    "    X = rollout(dynamics, U, x0)\n",
    "    return trajectory_cost(cost, U, x0, X)\n",
    "\n",
    "\n",
    "def pytree_block_until_ready(tree: PyTree) -> PyTree:\n",
    "    return jax.tree.map(lambda leaf: leaf.block_until_ready(), tree)\n",
    "\n",
    "\n",
    "def print_jit_and_eval_times(f, *, args=(), kwargs={}, name='', num_steps=5):\n",
    "    start_time = time.time()\n",
    "    pytree_block_until_ready(f(*args, **kwargs))\n",
    "    jit_plus_eval_time = time.time() - start_time\n",
    "\n",
    "    start_time = time.time()\n",
    "    for _ in range(num_steps):\n",
    "        pytree_block_until_ready(f(*args, **kwargs))\n",
    "    eval_time = (time.time() - start_time) / num_steps\n",
    "    print(\n",
    "        f\"{name}, jit_time={jit_plus_eval_time - eval_time:.3f} (s), eval_time={eval_time:.3f} (s)\")\n"
   ]
  },
  {
   "cell_type": "markdown",
   "id": "ee2e23ba",
   "metadata": {},
   "source": [
    "## Brax setup\n",
    "\n",
    "We will use [`brax`](https://github.com/google/brax), a Jax-based differentiable physics simulator, to provide concrete implementations of dynamics functions.\n",
    "\n",
    "We first write some helper functions to make `brax` compatible with our abstractions. One issue that will arise, is that `brax.State` objects are PyTrees which are not minimal: they contain derived information (e.g. transformations) from the generalized coordinates. Since later we will want to linearize the dynamics and quadratize the costs, we want to do this in generalized coordinates, so we define some conversion functions to go between the two representations."
   ]
  },
  {
   "cell_type": "code",
   "execution_count": 7,
   "id": "b207b6ec",
   "metadata": {},
   "outputs": [],
   "source": [
    "def state_to_gen_coords(state: State) -> Array:\n",
    "    return jnp.concatenate((state.q, state.qd))\n",
    "\n",
    "\n",
    "def gen_coords_to_state(env: Env, coords: Array) -> State:\n",
    "    q, qd = jnp.split(coords, [env.sys.q_size()])\n",
    "    return env.pipeline_init(q, qd)\n",
    "\n",
    "\n",
    "def brax_dynamics(\n",
    "        env: Env, t: Scalar, x: State, u: Array) -> Array:\n",
    "    return env.pipeline_step(x, u)\n"
   ]
  },
  {
   "cell_type": "markdown",
   "id": "c0625f0c",
   "metadata": {},
   "source": [
    "## Reacher environment cost/dynamics\n",
    "\n",
    "For the majority of this notebook, we will focus on the reacher environment. \n",
    "\n",
    "Here, we define the dynamics and cost functions associated with reacher."
   ]
  },
  {
   "cell_type": "code",
   "execution_count": 8,
   "id": "b7d625a5",
   "metadata": {},
   "outputs": [
    {
     "name": "stderr",
     "output_type": "stream",
     "text": [
      "/home/andrea-ostuni/jax_ws/.venv_jax/lib/python3.10/site-packages/brax/io/mjcf.py:480: UserWarning: Brax System, piplines and environments are not actively being maintained. Please see MJX for a well maintained JAX-based physics engine: https://github.com/google-deepmind/mujoco/tree/main/mjx. For a host of environments that use MJX, see: https://github.com/google-deepmind/mujoco_playground.\n",
      "  warnings.warn(\n"
     ]
    }
   ],
   "source": [
    "reacher_env = envs.get_environment(\n",
    "    env_name='reacher',    # 'reacher', 'ant', ...\n",
    "    backend='positional',  # 'generalized', 'positional', ...\n",
    ")\n",
    "\n",
    "dynamics = partial(brax_dynamics, reacher_env)\n",
    "trajectory = jax.jit(partial(rollout, dynamics))\n",
    "coords_to_state = jax.jit(partial(gen_coords_to_state, reacher_env))"
   ]
  },
  {
   "cell_type": "code",
   "execution_count": 9,
   "id": "9334d89f",
   "metadata": {},
   "outputs": [],
   "source": [
    "@struct.dataclass\n",
    "class ReacherCostParams:\n",
    "    # stage cost weights\n",
    "    stage_pos: float = 10.0\n",
    "    stage_vel: float = 0.001\n",
    "    stage_act: float = 0.01\n",
    "\n",
    "    # terminal cost weights\n",
    "    term_pos: float = 100.0\n",
    "    term_vel: float = 10.0\n"
   ]
  },
  {
   "cell_type": "code",
   "execution_count": 10,
   "id": "84a96e81",
   "metadata": {},
   "outputs": [],
   "source": [
    "def reacher_stage_cost(\n",
    "    t: Scalar, x: State, u: Array, *, params: ReacherCostParams\n",
    ") -> float:\n",
    "    obs = reacher_env._get_obs(x)  # get access to goal\n",
    "    state_cost = 0.0\n",
    "\n",
    "    # distance to goal\n",
    "    state_cost += params.stage_pos * jnp.sum(obs[8:10] ** 2)\n",
    "\n",
    "    # angular velocity of arm\n",
    "    state_cost += params.stage_vel * jnp.sum(obs[6:8] ** 2)\n",
    "\n",
    "    # actuation penalty\n",
    "    act_cost = params.stage_act * jnp.sum(u ** 2)\n",
    "    return state_cost + act_cost\n",
    "\n",
    "\n",
    "def reacher_terminal_cost(\n",
    "    t: Scalar, x: State, *, params: ReacherCostParams\n",
    ") -> float:\n",
    "    obs = reacher_env._get_obs(x)\n",
    "    state_cost = 0.0\n",
    "\n",
    "    # distance to goal\n",
    "    state_cost += params.term_pos * jnp.sum(obs[8:10] ** 2)\n",
    "\n",
    "    # angular velocity of arm\n",
    "    state_cost += params.term_vel * jnp.sum(obs[6:8] ** 2)\n",
    "    return state_cost\n"
   ]
  },
  {
   "cell_type": "code",
   "execution_count": 11,
   "id": "738c0852",
   "metadata": {},
   "outputs": [],
   "source": [
    "@jax.jit\n",
    "def value_and_grad_obj(\n",
    "    U: Array, x0: PyTree, params: ReacherCostParams\n",
    ") -> tuple[float, Array]:\n",
    "    cost = Cost(\n",
    "        stage_cost=partial(reacher_stage_cost, params=params),\n",
    "        terminal_cost=partial(reacher_terminal_cost, params=params))\n",
    "    obj = partial(objective, dynamics, cost)\n",
    "    return jax.value_and_grad(obj)(U, x0)\n"
   ]
  },
  {
   "cell_type": "markdown",
   "id": "f3663ad6",
   "metadata": {},
   "source": [
    "## Gradient methods\n",
    "\n",
    "We are now ready to write our first trajectory optimizer based on first-order methods. We will use [`optax`](https://github.com/deepmind/optax) to abstract away the details of specific optimization algorithms such as gradient descent, Adam, AdaGrad, etc. "
   ]
  },
  {
   "cell_type": "code",
   "execution_count": 12,
   "id": "965a401e",
   "metadata": {},
   "outputs": [],
   "source": [
    "def gradient_step(\n",
    "    update: TransformUpdateFn,\n",
    "    U: Array,\n",
    "    opt_state: OptState,\n",
    "    x0: Array,\n",
    "    params: ReacherCostParams\n",
    ") -> tuple[float, Array, Array, OptState]:\n",
    "    v, g = value_and_grad_obj(U, x0, params)\n",
    "    U, opt_state = optax_step(update, U, opt_state, g)\n",
    "    return v, g, U, opt_state\n",
    "\n",
    "\n",
    "def optax_step(\n",
    "    update: TransformUpdateFn,\n",
    "    params: Array,\n",
    "    opt_state: OptState,\n",
    "    gradient: Array,\n",
    "):\n",
    "    updates, opt_state = update(gradient, opt_state, params)\n",
    "    # params += updates\n",
    "    params = optax.apply_updates(params, updates)\n",
    "    return params, opt_state\n"
   ]
  },
  {
   "cell_type": "code",
   "execution_count": 13,
   "id": "55e4bac0",
   "metadata": {},
   "outputs": [],
   "source": [
    "opt = optax.adam(learning_rate=5e-2)  # or optax.sgd, ...\n",
    "step = jax.jit(partial(gradient_step, opt.update))"
   ]
  },
  {
   "cell_type": "markdown",
   "id": "ba3e6533",
   "metadata": {},
   "source": [
    "We now define the task horizon, the initial state $x_0$, the initial guess for the sequence of inputs $U$,\n",
    "and the parameters we will use for the reacher cost function."
   ]
  },
  {
   "cell_type": "code",
   "execution_count": 14,
   "id": "30773fc2",
   "metadata": {},
   "outputs": [],
   "source": [
    "T = 40\n",
    "x0 = reacher_env.pipeline_init(\n",
    "    jnp.array([0, 0, -0.05, -0.20]),\n",
    "    \n",
    "    # other initial conditions to try:\n",
    "    # jnp.array([0, 0, -0.05, -0.15]),\n",
    "    # jnp.array([0, 0, -0.1, -0.15]),\n",
    "    # reacher_env.sys.init_q,\n",
    "    \n",
    "    jnp.zeros((4,))\n",
    ")\n",
    "U = jax.random.uniform(\n",
    "    jax.random.PRNGKey(0),\n",
    "    minval=-0.1,\n",
    "    maxval=0.1,\n",
    "    shape=(T, reacher_env.action_size),\n",
    ")\n",
    "params = ReacherCostParams(term_pos=1000.0, term_vel=500.0)\n"
   ]
  },
  {
   "cell_type": "markdown",
   "id": "5fd9a9a4",
   "metadata": {},
   "source": [
    "One current downside of using `brax` is that compile times are fairly long. On the other hand, evaluation is very fast. We illustrate this below."
   ]
  },
  {
   "cell_type": "code",
   "execution_count": 12,
   "id": "91a9a96e",
   "metadata": {},
   "outputs": [
    {
     "name": "stdout",
     "output_type": "stream",
     "text": [
      "step, jit_time=36.456 (s), eval_time=0.204 (s)\n"
     ]
    }
   ],
   "source": [
    "print_jit_and_eval_times(\n",
    "    step, \n",
    "    args=(U, opt.init(U), x0, params),\n",
    "    name='step')"
   ]
  },
  {
   "cell_type": "markdown",
   "id": "e70765b4",
   "metadata": {},
   "source": [
    "Now that our main `step` function is compiled, we can run our optimization algorithm. Here, we run 500 steps of Adam, recording both the objective values and $\\ell_\\infty$ gradient norms throughout the optimization."
   ]
  },
  {
   "cell_type": "code",
   "execution_count": 13,
   "id": "98470413",
   "metadata": {},
   "outputs": [
    {
     "name": "stderr",
     "output_type": "stream",
     "text": [
      "  0%|          | 0/500 [00:00<?, ?it/s]"
     ]
    },
    {
     "name": "stderr",
     "output_type": "stream",
     "text": [
      "100%|██████████| 500/500 [01:39<00:00,  5.04it/s]\n",
      "100%|██████████| 500/500 [01:39<00:00,  5.04it/s]\n"
     ]
    }
   ],
   "source": [
    "opt_state = opt.init(U)\n",
    "values = []\n",
    "grad_norms = []\n",
    "for iteration in tqdm.tqdm(range(500)):\n",
    "    v, g, U, opt_state = step(U, opt_state, x0, params)\n",
    "    values.append(v)\n",
    "    grad_norms.append(np.linalg.norm(g, ord=np.inf))"
   ]
  },
  {
   "cell_type": "code",
   "execution_count": 14,
   "id": "e946590d",
   "metadata": {},
   "outputs": [
    {
     "data": {
      "image/png": "[encoded data removed]",
      "text/plain": [
       "<Figure size 600x400 with 2 Axes>"
      ]
     },
     "metadata": {},
     "output_type": "display_data"
    }
   ],
   "source": [
    "plt.figure(figsize=(6, 4))\n",
    "\n",
    "plt.subplot(1, 2, 1)\n",
    "plt.semilogy(values)\n",
    "plt.xlabel('iteration')\n",
    "plt.ylabel('obj')\n",
    "plt.title(f'final obj={values[-1]:.3f}')\n",
    "\n",
    "plt.subplot(1, 2, 2)\n",
    "plt.semilogy(grad_norms)\n",
    "plt.xlabel('iteration')\n",
    "plt.ylabel('norm(grad)')\n",
    "plt.title(f'final norm(grad)={grad_norms[-1]:.3f}')\n",
    "\n",
    "plt.suptitle('reacher traj opt (Adam)')\n",
    "\n",
    "plt.tight_layout()"
   ]
  },
  {
   "cell_type": "markdown",
   "id": "fe088685",
   "metadata": {},
   "source": [
    "Let us now visualize the resulting trajectory!"
   ]
  },
  {
   "cell_type": "code",
   "execution_count": 15,
   "id": "1f7a9f85",
   "metadata": {},
   "outputs": [],
   "source": [
    "X = trajectory(U, x0)\n",
    "X = jax.tree.map(\n",
    "    lambda a, b: jnp.concatenate((a[None, :], b), axis=0), x0, X)"
   ]
  },
  {
   "cell_type": "code",
   "execution_count": 16,
   "id": "a47a4a6c",
   "metadata": {},
   "outputs": [
    {
     "data": {
      "text/html": [
       "\n",
       "        <iframe\n",
       "            width=\"900\"\n",
       "            height=\"500\"\n",
       "            src=\"temp_optax.html\"\n",
       "            frameborder=\"0\"\n",
       "            allowfullscreen\n",
       "            \n",
       "        ></iframe>\n",
       "        "
      ],
      "text/plain": [
       "<IPython.lib.display.IFrame at 0x758eec1bc610>"
      ]
     },
     "execution_count": 16,
     "metadata": {},
     "output_type": "execute_result"
    }
   ],
   "source": [
    "# Note: writing the result of `html.render` is only necessary in a jupyter notebook.\n",
    "# If running as a colab notebook, one can directly write `HTML(html.render(...))`. \n",
    "# This is a known issue: https://github.com/google/brax/issues/114\n",
    "with open('temp_optax.html', 'w') as fp:\n",
    "    # we replace the `dt` value to 0.1 so that the visualization runs at a reasonable speed.\n",
    "    fp.write(html.render(reacher_env.sys,\n",
    "                         [coords_to_state(x) for x in jax.vmap(state_to_gen_coords)(X)]))\n",
    "IFrame('temp_optax.html', width=900, height=500)"
   ]
  },
  {
   "cell_type": "markdown",
   "id": "0b7da47e",
   "metadata": {},
   "source": [
    "## Scipy L-BFGS\n",
    "\n",
    "Next, we turn to a more classic optimization algorithm, [limited memory BFGS](https://en.wikipedia.org/wiki/Limited-memory_BFGS) (L-BFGS).\n",
    "\n",
    "We rely on scipy's `optimize.fmin_l_bfgs_b` implementation, which takes as input user defined functions that represent both function and gradient evaluation. This is the same as our `value_and_grad_obj` function, with a few caveats: scipy's implementation requires both (a) vector parameters and (b) float64 precision. Hence, we need a small wrapper to make our `value_and_grad_obj` function compatible."
   ]
  },
  {
   "cell_type": "code",
   "execution_count": 17,
   "id": "2768b2d9",
   "metadata": {},
   "outputs": [],
   "source": [
    "def scipy_obj(flat_U: np.ndarray, *,\n",
    "              x0: State, params: ReacherCostParams) -> tuple[float, np.ndarray]:\n",
    "    \"\"\"Interface between L-BFGS and Jax.\"\"\"\n",
    "    U = flat_U.reshape((-1, reacher_env.action_size))  # unflatten\n",
    "    v, g = value_and_grad_obj(U, x0, params)\n",
    "    return (\n",
    "        float(v),\n",
    "        np.array(jax.device_get(g), dtype=np.float64).flatten())\n"
   ]
  },
  {
   "cell_type": "code",
   "execution_count": 18,
   "id": "99cc4f73",
   "metadata": {},
   "outputs": [
    {
     "name": "stdout",
     "output_type": "stream",
     "text": [
      "value_and_grad_obj, jit_time=32.592 (s), eval_time=0.201 (s)\n"
     ]
    }
   ],
   "source": [
    "print_jit_and_eval_times(\n",
    "    value_and_grad_obj,\n",
    "    args=(U, x0, params),\n",
    "    name='value_and_grad_obj')"
   ]
  },
  {
   "cell_type": "markdown",
   "id": "5857a831",
   "metadata": {},
   "source": [
    "We can now call `scipy.optimize.fmin_l_bfgs_b` to solve our trajectory optimization problem."
   ]
  },
  {
   "cell_type": "code",
   "execution_count": 19,
   "id": "4d2561ea",
   "metadata": {},
   "outputs": [],
   "source": [
    "U = jax.random.uniform(\n",
    "    jax.random.PRNGKey(0),\n",
    "    minval=-0.1,\n",
    "    maxval=0.1,\n",
    "    shape=(T, reacher_env.action_size),\n",
    ")\n",
    "\n",
    "flat_U, f_star, info = sp.optimize.fmin_l_bfgs_b(\n",
    "    partial(scipy_obj, x0=x0, params=params), \n",
    "    jax.device_get(U.flatten()))\n",
    "U = flat_U.reshape(U.shape)"
   ]
  },
  {
   "cell_type": "code",
   "execution_count": 20,
   "id": "fa7a281b",
   "metadata": {},
   "outputs": [
    {
     "name": "stdout",
     "output_type": "stream",
     "text": [
      "norm(grad) 0.4850224735448283\n",
      "num_iters 291\n",
      "obj 17.060604281059433\n"
     ]
    }
   ],
   "source": [
    "print(\"norm(grad)\", np.linalg.norm(info['grad'], ord=np.inf))\n",
    "print(\"num_iters\", info['nit'])\n",
    "print(\"obj\", f_star)"
   ]
  },
  {
   "cell_type": "markdown",
   "id": "928511b3",
   "metadata": {},
   "source": [
    "As before, let us now visualize the resulting optimal trajectory."
   ]
  },
  {
   "cell_type": "code",
   "execution_count": 21,
   "id": "eaa885b4",
   "metadata": {},
   "outputs": [],
   "source": [
    "X = trajectory(U, x0)\n",
    "X = jax.tree.map(lambda a, b: jnp.concatenate((a[None, :], b), axis=0), x0, X)"
   ]
  },
  {
   "cell_type": "code",
   "execution_count": 22,
   "id": "a672fdac",
   "metadata": {},
   "outputs": [
    {
     "data": {
      "text/html": [
       "\n",
       "        <iframe\n",
       "            width=\"900\"\n",
       "            height=\"500\"\n",
       "            src=\"temp_lbfgs.html\"\n",
       "            frameborder=\"0\"\n",
       "            allowfullscreen\n",
       "            \n",
       "        ></iframe>\n",
       "        "
      ],
      "text/plain": [
       "<IPython.lib.display.IFrame at 0x758eec176cb0>"
      ]
     },
     "execution_count": 22,
     "metadata": {},
     "output_type": "execute_result"
    }
   ],
   "source": [
    "# Same comment regarding the tempfile+IFrame workaround from visualizing\n",
    "# the result of the optax optimization applies here.\n",
    "with open('temp_lbfgs.html', 'w') as fp:\n",
    "    fp.write(html.render(reacher_env.sys,\n",
    "                         [coords_to_state(x) for x in jax.vmap(state_to_gen_coords)(X)]))\n",
    "IFrame('temp_lbfgs.html', width=900, height=500)"
   ]
  },
  {
   "cell_type": "markdown",
   "id": "49fba935",
   "metadata": {},
   "source": [
    "## Trajax iLQR\n",
    "\n",
    "We've successfully used both Adam and L-BFGS to solve the reacher trajectory optimization problem. For more challenging problems, first-order methods can be quite inefficient, and incorporating second-order information can dramatically improve the computational complexity of optimization. \n",
    "\n",
    "The iterative Linear Quadratic Regulator (iLQR) algorithm is a classic algorithm for trajectory optimization which incorporates second-order information. It is described in more detail in Part II of our tutorial. For now, we will use our [`trajax`](https://github.com/google/trajax) library, which implements iLQR using Jax, so that it is compatible with Jax's transforms and supports automatic differentiation.  \n",
    "\n",
    "We first start with `ilqr_solve`, a thin wrapper around `trajax.optimizers.ilqr` which handles the slight API mismatch between our `Cost` and `Dynamics` type signatures, and what `trajax` expects as inputs. The biggest issue this wrapper resolves is forcing `trajax` to deal with only the generalized coordinates, instead of the `brax.State` PyTree. This is specifically for efficiency reasons, so we do not have to automatically differentiate through the derived information when we linearize the dynamics and quadratize the cost. "
   ]
  },
  {
   "cell_type": "code",
   "execution_count": 15,
   "id": "80666428",
   "metadata": {},
   "outputs": [],
   "source": [
    "@jax.jit\n",
    "def ilqr_solve(x0: Array, U: Array, params: ReacherCostParams) -> ...:\n",
    "\n",
    "    cost = Cost(\n",
    "        stage_cost=partial(reacher_stage_cost, params=params),\n",
    "        terminal_cost=partial(reacher_terminal_cost, params=params))\n",
    "\n",
    "    def trajax_cost(\n",
    "        x: Array, u: Array, t: Scalar\n",
    "    ) -> float:\n",
    "        x = coords_to_state(x)\n",
    "        return jnp.where(\n",
    "            t == T,\n",
    "            cost.terminal_cost(t, x),\n",
    "            cost.stage_cost(t, x, u))\n",
    "\n",
    "    def trajax_dynamics(\n",
    "        x: Array, u: Array, t: Scalar\n",
    "    ) -> Array:\n",
    "        # (x, u, t) -> (t, x, u)\n",
    "        x = coords_to_state(x)\n",
    "        return state_to_gen_coords(dynamics(t, x, u))\n",
    "\n",
    "    ilqr_kwargs = dict(\n",
    "        make_psd=True, psd_delta=1e-4, alpha_0=0.5\n",
    "    )\n",
    "\n",
    "    return ilqr(trajax_cost, trajax_dynamics, x0, U, **ilqr_kwargs)\n"
   ]
  },
  {
   "cell_type": "markdown",
   "id": "b81747f9",
   "metadata": {},
   "source": [
    "The slow compile times previously encountered are further exacerbated when combining `brax` with `trajax`, as shown below. Nevertheless, the compiled code is very fast."
   ]
  },
  {
   "cell_type": "code",
   "execution_count": 24,
   "id": "a063653a",
   "metadata": {},
   "outputs": [
    {
     "name": "stdout",
     "output_type": "stream",
     "text": [
      "ilqr_solve, jit_time=122.493 (s), eval_time=0.404 (s)\n"
     ]
    }
   ],
   "source": [
    "print_jit_and_eval_times(\n",
    "    ilqr_solve,\n",
    "    args=(state_to_gen_coords(x0), U, params),\n",
    "    name='ilqr_solve',\n",
    "    num_steps=1)"
   ]
  },
  {
   "cell_type": "code",
   "execution_count": 25,
   "id": "515c4a6d",
   "metadata": {},
   "outputs": [],
   "source": [
    "U = jax.random.uniform(\n",
    "    jax.random.PRNGKey(0),\n",
    "    minval=-0.1,\n",
    "    maxval=0.1,\n",
    "    shape=(T, reacher_env.action_size),\n",
    ")\n",
    "X, U, obj, grad, *_ = ilqr_solve(state_to_gen_coords(x0), U, params)"
   ]
  },
  {
   "cell_type": "code",
   "execution_count": 26,
   "id": "af979b74",
   "metadata": {},
   "outputs": [
    {
     "name": "stdout",
     "output_type": "stream",
     "text": [
      "norm(grad) 3.4034888898036706\n",
      "obj 41.585812566729324\n"
     ]
    }
   ],
   "source": [
    "print('norm(grad)', np.linalg.norm(grad, ord=np.inf))\n",
    "print('obj', obj)"
   ]
  },
  {
   "cell_type": "markdown",
   "id": "dde73339",
   "metadata": {},
   "source": [
    "As before, let us visualize the optimal trajectory."
   ]
  },
  {
   "cell_type": "code",
   "execution_count": 27,
   "id": "a55cd223",
   "metadata": {},
   "outputs": [
    {
     "data": {
      "text/html": [
       "\n",
       "        <iframe\n",
       "            width=\"900\"\n",
       "            height=\"500\"\n",
       "            src=\"temp_trajax.html\"\n",
       "            frameborder=\"0\"\n",
       "            allowfullscreen\n",
       "            \n",
       "        ></iframe>\n",
       "        "
      ],
      "text/plain": [
       "<IPython.lib.display.IFrame at 0x758961cf2530>"
      ]
     },
     "execution_count": 27,
     "metadata": {},
     "output_type": "execute_result"
    }
   ],
   "source": [
    "# Again, the tempfile+IFrame workaround is unnecessary if we run \n",
    "# this notebook as a colab notebook.\n",
    "with open('temp_trajax.html', 'w') as fp:\n",
    "    fp.write(html.render(reacher_env.sys, [coords_to_state(x) for x in X]))\n",
    "IFrame('temp_trajax.html', width=900, height=500)"
   ]
  },
  {
   "cell_type": "markdown",
   "id": "a3cbf3cd",
   "metadata": {},
   "source": [
    "The fact that the entire `ilqr` routine is written in Jax allows us to write various Jax transformations on top of `ilqr`. This has some pretty neat implications in terms of e.g. parallel simulation and cost parameter optimization. \n",
    "\n",
    "For what follows, we conduct a very simple form of cost parameter optimization via grid-search. In particular, we will seek the set of cost parameters which minimizes the worst-case goal error over several fixed initial conditions $x_0$."
   ]
  },
  {
   "cell_type": "code",
   "execution_count": 28,
   "id": "b5860493",
   "metadata": {},
   "outputs": [],
   "source": [
    "x0s = jnp.array([\n",
    "    [0, 0, 0.1, -0.1],\n",
    "    [0, 0, 0.17, 0.1],\n",
    "    [0, 0, 0.0, -0.20]\n",
    "])\n",
    "x0s = jax.vmap(partial(reacher_env.pipeline_init, qd=jnp.zeros((4,))))(x0s)\n",
    "x0s = jax.vmap(state_to_gen_coords)(x0s)"
   ]
  },
  {
   "cell_type": "code",
   "execution_count": 29,
   "id": "33053436",
   "metadata": {},
   "outputs": [],
   "source": [
    "def meta_cost(params: ReacherCostParams, x0s: Array, key: PRNGKey) -> float:\n",
    "    U = jax.random.uniform(\n",
    "        key, minval=-0.1, maxval=0.1,\n",
    "        shape=(T, reacher_env.action_size))\n",
    "    Xs, Us, objs, grads, adjoints, lqrs, iters = jax.vmap(\n",
    "        ilqr_solve, in_axes=(0, None, None))(x0s, U, params)\n",
    "    states = jax.vmap(coords_to_state)(Xs[:, -1, :])\n",
    "    obs = jax.vmap(reacher_env._get_obs)(states)\n",
    "    c = jnp.max(jnp.sum(obs[:, 8:10] ** 2, axis=-1))\n",
    "    return c, (Xs, Us, objs, grads, adjoints, lqrs, iters)\n"
   ]
  },
  {
   "cell_type": "code",
   "execution_count": 30,
   "id": "b7352a52",
   "metadata": {},
   "outputs": [],
   "source": [
    "vmap_meta_cost = jax.jit(jax.vmap(meta_cost, in_axes=(0, None, None)))\n",
    "\n",
    "def reacher_cost_from_weight(w: float) -> ReacherCostParams:\n",
    "    return ReacherCostParams(term_pos=w)\n",
    "\n",
    "weights = jnp.array([100.0, 500.0, 1000.0])"
   ]
  },
  {
   "cell_type": "code",
   "execution_count": 31,
   "id": "edd5d09e",
   "metadata": {},
   "outputs": [
    {
     "name": "stdout",
     "output_type": "stream",
     "text": [
      "vmap_meta_cost, jit_time=173.368 (s), eval_time=49.675 (s)\n"
     ]
    }
   ],
   "source": [
    "args = (\n",
    "    jax.vmap(reacher_cost_from_weight)(weights),\n",
    "    x0s,\n",
    "    jax.random.PRNGKey(17))\n",
    "print_jit_and_eval_times(\n",
    "    vmap_meta_cost,\n",
    "    args=args,\n",
    "    name='vmap_meta_cost',\n",
    "    num_steps=1\n",
    ")"
   ]
  },
  {
   "cell_type": "code",
   "execution_count": 32,
   "id": "cc15e48a",
   "metadata": {},
   "outputs": [],
   "source": [
    "meta_costs, meta_results = vmap_meta_cost(\n",
    "    jax.vmap(reacher_cost_from_weight)(weights),\n",
    "    x0s,\n",
    "    jax.random.PRNGKey(17))"
   ]
  },
  {
   "cell_type": "code",
   "execution_count": 33,
   "id": "9a2978df",
   "metadata": {},
   "outputs": [
    {
     "name": "stdout",
     "output_type": "stream",
     "text": [
      "best_idx 2\n"
     ]
    }
   ],
   "source": [
    "best_idx = np.argmin(meta_costs)\n",
    "print(\"best_idx\", best_idx)"
   ]
  },
  {
   "cell_type": "code",
   "execution_count": 34,
   "id": "c6e3bda3",
   "metadata": {},
   "outputs": [
    {
     "data": {
      "text/html": [
       "\n",
       "        <iframe\n",
       "            width=\"900\"\n",
       "            height=\"500\"\n",
       "            src=\"temp_meta_cost.html\"\n",
       "            frameborder=\"0\"\n",
       "            allowfullscreen\n",
       "            \n",
       "        ></iframe>\n",
       "        "
      ],
      "text/plain": [
       "<IPython.lib.display.IFrame at 0x75881b17cac0>"
      ]
     },
     "execution_count": 34,
     "metadata": {},
     "output_type": "execute_result"
    }
   ],
   "source": [
    "x0_idx = 2  # indexes into x0s\n",
    "with open('temp_meta_cost.html', 'w') as fp:\n",
    "    fp.write(html.render(\n",
    "        reacher_env.sys, \n",
    "        [coords_to_state(x) for x in meta_results[0][best_idx][x0_idx]]))\n",
    "IFrame('temp_meta_cost.html', width=900, height=500)"
   ]
  },
  {
   "cell_type": "markdown",
   "id": "f529e8cb",
   "metadata": {},
   "source": [
    "## Acrobot iLQR sensitivity analysis\n",
    "\n",
    "We now conclude by exploring the autodiff capabilites of `trajax`. In particular, we take advantage of the fact that `trajax` supports autodiff through the solution of iLQR problems.\n",
    "\n",
    "In the following example, we consider a standard [acrobot](http://underactuated.mit.edu/acrobot.html#section1) swingup task. We study which parameters of both the cost and dynamics function has the biggest influence on the amount of optimal control effort ($\\sum_t \\|u_t\\|^2$) needed to swing the acrobot up.\n",
    "\n",
    "We first start by defining acrobot dynamics. We do not use `brax` here for clarity reasons because we want the mapping between parameters and dynamics to be explicit.  "
   ]
  },
  {
   "cell_type": "code",
   "execution_count": 35,
   "id": "a2564d89",
   "metadata": {},
   "outputs": [],
   "source": [
    "@struct.dataclass\n",
    "class AcrobotDynamicsParams:\n",
    "    \n",
    "    LINK_MASS_1: float = 1.0\n",
    "    LINK_MASS_2: float = 1.0\n",
    "    LINK_LENGTH_1: float = 1.0\n",
    "    LINK_COM_POS_1: float = 0.5\n",
    "    LINK_COM_POS_2: float = 0.5\n",
    "    LINK_MOI_1: float = 1.0\n",
    "    LINK_MOI_2: float = 1.0\n",
    "\n",
    "\n",
    "def acrobot(\n",
    "    x: Array,\n",
    "    u: Array,\n",
    "    t: Scalar,\n",
    "    params: AcrobotDynamicsParams\n",
    ") -> Array:\n",
    "    \"\"\"Classic Acrobot system.\n",
    "\n",
    "    Note this implementation emulates the OpenAI gym implementation of\n",
    "    Acrobot-v2, which itself is based on Stutton's Reinforcement Learning book.\n",
    "\n",
    "    Args:\n",
    "      x: state, (4, ) array\n",
    "      u: control, (1, ) array\n",
    "      t: scalar time. Disregarded because system is time-invariant.\n",
    "      params: tuple of (LINK_MASS_1, LINK_MASS_2, LINK_LENGTH_1, LINK_COM_POS_1,\n",
    "        LINK_COM_POS_2 LINK_MOI_1, LINK_MOI_2)\n",
    "\n",
    "    Returns:\n",
    "      xdot: state time derivative, (4, )\n",
    "    \"\"\"\n",
    "    del t  # Unused\n",
    "\n",
    "    m1, m2, l1, lc1, lc2, I1, I2 = jax.flatten_util.ravel_pytree(params)[0]\n",
    "    g = 9.8\n",
    "    a = u[0]\n",
    "    theta1 = x[0]\n",
    "    theta2 = x[1]\n",
    "    dtheta1 = x[2]\n",
    "    dtheta2 = x[3]\n",
    "    d1 = (\n",
    "        m1 * lc1**2 + m2 * (l1**2 + lc2**2 + 2 * l1 * lc2 * jnp.cos(theta2)) + I1 +\n",
    "        I2)\n",
    "    d2 = m2 * (lc2**2 + l1 * lc2 * jnp.cos(theta2)) + I2\n",
    "    phi2 = m2 * lc2 * g * jnp.cos(theta1 + theta2 - jnp.pi / 2.)\n",
    "    phi1 = (-m2 * l1 * lc2 * dtheta2**2 * jnp.sin(theta2) -\n",
    "            2 * m2 * l1 * lc2 * dtheta2 * dtheta1 * jnp.sin(theta2) +\n",
    "            (m1 * lc1 + m2 * l1) * g * jnp.cos(theta1 - jnp.pi / 2) + phi2)\n",
    "    ddtheta2 = ((a + d2 / d1 * phi1 -\n",
    "                 m2 * l1 * lc2 * dtheta1**2 * jnp.sin(theta2) - phi2) /\n",
    "                (m2 * lc2**2 + I2 - d2**2 / d1))\n",
    "    ddtheta1 = -(d2 * ddtheta2 + phi1) / d1\n",
    "    return jnp.array([dtheta1, dtheta2, ddtheta1, ddtheta2])\n"
   ]
  },
  {
   "cell_type": "markdown",
   "id": "e7abe4e7",
   "metadata": {},
   "source": [
    "We now define a cost function, which penalizes deviations of the acrobot from the upright position."
   ]
  },
  {
   "cell_type": "code",
   "execution_count": 36,
   "id": "ef364ec8",
   "metadata": {},
   "outputs": [],
   "source": [
    "T = 50\n",
    "goal = jnp.array([jnp.pi, 0.0, 0.0, 0.0])\n",
    "\n",
    "\n",
    "@struct.dataclass\n",
    "class AcrobotCostParams:\n",
    "    stage_cost_x: float = 0.1\n",
    "    stage_cost_u: float = 0.01\n",
    "    term_cost_x: float = 1000.0\n",
    "\n",
    "\n",
    "def acrobot_cost(\n",
    "    x: Array,\n",
    "    u: Array,\n",
    "    t: Scalar,\n",
    "    params: AcrobotCostParams\n",
    ") -> float:\n",
    "    delta = x - goal\n",
    "    terminal_cost = 0.5 * params.term_cost_x * jnp.dot(delta, delta)\n",
    "    stage_cost = 0.5 * params.stage_cost_x * jnp.dot(\n",
    "        delta, delta) + 0.5 * params.stage_cost_u * jnp.dot(u, u)\n",
    "    return jnp.where(t == T, terminal_cost, stage_cost)\n"
   ]
  },
  {
   "cell_type": "markdown",
   "id": "88c5ba84",
   "metadata": {},
   "source": [
    "The following `acrobot_control_effort` function takes in `dynamics_params` and `cost_params`, solves the resulting `ilqr` problem after applying a \n",
    "[forward Euler](https://en.wikipedia.org/wiki/Euler_method) discretization\n",
    "to the continuous acrobot dynamics to turn it into a discrete problem, and then returns\n",
    "the optimal control effort $\\sum_t \\|u_t\\|^2$."
   ]
  },
  {
   "cell_type": "code",
   "execution_count": 37,
   "id": "568377aa",
   "metadata": {},
   "outputs": [],
   "source": [
    "def acrobot_control_effort(\n",
    "    dynamics_params: AcrobotDynamicsParams, \n",
    "    cost_params: AcrobotCostParams\n",
    ") -> float:\n",
    "    dynamics = euler(\n",
    "        partial(acrobot, params=dynamics_params), dt=0.1)\n",
    "    x0 = jnp.zeros(4)\n",
    "    U = jnp.zeros((T, 1))\n",
    "    _, U, *_ = ilqr(\n",
    "        partial(acrobot_cost, params=cost_params),\n",
    "        dynamics, x0, U,\n",
    "        maxiter=100, make_psd=False, vjp_method='explicit')\n",
    "    return jnp.sum(U ** 2)\n"
   ]
  },
  {
   "cell_type": "code",
   "execution_count": 38,
   "id": "dba18004",
   "metadata": {},
   "outputs": [],
   "source": [
    "# This helper class allows us to pretty print dataclasses\n",
    "# Taken from:\n",
    "# https://stackoverflow.com/questions/44356693/pprint-with-custom-float-formats\n",
    "class FormatPrinter(pprint.PrettyPrinter):\n",
    "\n",
    "    def __init__(self, formats):\n",
    "        super(FormatPrinter, self).__init__()\n",
    "        self.formats = formats\n",
    "\n",
    "    def format(self, obj, ctx, maxlvl, lvl):\n",
    "        if type(obj) in self.formats:\n",
    "            return self.formats[type(obj)] % obj, 1, 0\n",
    "        return pprint.PrettyPrinter.format(self, obj, ctx, maxlvl, lvl)\n",
    "printer = FormatPrinter({float: '%.3f'})\n"
   ]
  },
  {
   "cell_type": "markdown",
   "id": "57fde839",
   "metadata": {},
   "source": [
    "We can now answer our question of which parameters have the most effect on the optimal control effort, by taking a gradient of the `acrobot_control_effort` function, w.r.t. both the `dynamics_params` and the `cost_params`. For the `cost_params`, the answer is perhaps obvious; it should be the `stage_cost_u` parameter which penalizes control effort. However, for the dynamics parameters, it is not a-priori obvious what the answer should be."
   ]
  },
  {
   "cell_type": "code",
   "execution_count": 39,
   "id": "a4c8af2c",
   "metadata": {},
   "outputs": [
    {
     "ename": "AttributeError",
     "evalue": "jax.tree_map was removed in JAX v0.6.0: use jax.tree.map (jax v0.4.25 or newer) or jax.tree_util.tree_map (any JAX version).",
     "output_type": "error",
     "traceback": [
      "\u001b[0;31m---------------------------------------------------------------------------\u001b[0m",
      "\u001b[0;31mJaxStackTraceBeforeTransformation\u001b[0m         Traceback (most recent call last)",
      "File \u001b[0;32m/usr/lib/python3.10/runpy.py:196\u001b[0m, in \u001b[0;36m_run_module_as_main\u001b[0;34m()\u001b[0m\n\u001b[1;32m    195\u001b[0m     sys\u001b[38;5;241m.\u001b[39margv[\u001b[38;5;241m0\u001b[39m] \u001b[38;5;241m=\u001b[39m mod_spec\u001b[38;5;241m.\u001b[39morigin\n\u001b[0;32m--> 196\u001b[0m \u001b[38;5;28;01mreturn\u001b[39;00m _run_code(code, main_globals, \u001b[38;5;28;01mNone\u001b[39;00m,\n\u001b[1;32m    197\u001b[0m                  \u001b[38;5;124m\"\u001b[39m\u001b[38;5;124m__main__\u001b[39m\u001b[38;5;124m\"\u001b[39m, mod_spec)\n",
      "File \u001b[0;32m/usr/lib/python3.10/runpy.py:86\u001b[0m, in \u001b[0;36m_run_code\u001b[0;34m()\u001b[0m\n\u001b[1;32m     79\u001b[0m run_globals\u001b[38;5;241m.\u001b[39mupdate(\u001b[38;5;18m__name__\u001b[39m \u001b[38;5;241m=\u001b[39m mod_name,\n\u001b[1;32m     80\u001b[0m                    \u001b[38;5;18m__file__\u001b[39m \u001b[38;5;241m=\u001b[39m fname,\n\u001b[1;32m     81\u001b[0m                    __cached__ \u001b[38;5;241m=\u001b[39m cached,\n\u001b[0;32m   (...)\u001b[0m\n\u001b[1;32m     84\u001b[0m                    __package__ \u001b[38;5;241m=\u001b[39m pkg_name,\n\u001b[1;32m     85\u001b[0m                    __spec__ \u001b[38;5;241m=\u001b[39m mod_spec)\n\u001b[0;32m---> 86\u001b[0m exec(code, run_globals)\n\u001b[1;32m     87\u001b[0m \u001b[38;5;28;01mreturn\u001b[39;00m run_globals\n",
      "File \u001b[0;32m~/jax_ws/.venv_jax/lib/python3.10/site-packages/ipykernel_launcher.py:18\u001b[0m\n\u001b[1;32m     16\u001b[0m \u001b[38;5;28;01mfrom\u001b[39;00m\u001b[38;5;250m \u001b[39m\u001b[38;5;21;01mipykernel\u001b[39;00m\u001b[38;5;250m \u001b[39m\u001b[38;5;28;01mimport\u001b[39;00m kernelapp \u001b[38;5;28;01mas\u001b[39;00m app\n\u001b[0;32m---> 18\u001b[0m app\u001b[38;5;241m.\u001b[39mlaunch_new_instance()\n",
      "File \u001b[0;32m~/jax_ws/.venv_jax/lib/python3.10/site-packages/traitlets/config/application.py:1075\u001b[0m, in \u001b[0;36mlaunch_instance\u001b[0;34m()\u001b[0m\n\u001b[1;32m   1074\u001b[0m app\u001b[38;5;241m.\u001b[39minitialize(argv)\n\u001b[0;32m-> 1075\u001b[0m app\u001b[38;5;241m.\u001b[39mstart()\n",
      "File \u001b[0;32m~/jax_ws/.venv_jax/lib/python3.10/site-packages/ipykernel/kernelapp.py:758\u001b[0m, in \u001b[0;36mstart\u001b[0;34m()\u001b[0m\n\u001b[1;32m    757\u001b[0m \u001b[38;5;28;01mtry\u001b[39;00m:\n\u001b[0;32m--> 758\u001b[0m     \u001b[38;5;28mself\u001b[39m\u001b[38;5;241m.\u001b[39mio_loop\u001b[38;5;241m.\u001b[39mstart()\n\u001b[1;32m    759\u001b[0m \u001b[38;5;28;01mexcept\u001b[39;00m \u001b[38;5;167;01mKeyboardInterrupt\u001b[39;00m:\n",
      "File \u001b[0;32m~/jax_ws/.venv_jax/lib/python3.10/site-packages/tornado/platform/asyncio.py:211\u001b[0m, in \u001b[0;36mstart\u001b[0;34m()\u001b[0m\n\u001b[1;32m    210\u001b[0m \u001b[38;5;28;01mdef\u001b[39;00m\u001b[38;5;250m \u001b[39m\u001b[38;5;21mstart\u001b[39m(\u001b[38;5;28mself\u001b[39m) \u001b[38;5;241m-\u001b[39m\u001b[38;5;241m>\u001b[39m \u001b[38;5;28;01mNone\u001b[39;00m:\n\u001b[0;32m--> 211\u001b[0m     \u001b[38;5;28mself\u001b[39m\u001b[38;5;241m.\u001b[39masyncio_loop\u001b[38;5;241m.\u001b[39mrun_forever()\n",
      "File \u001b[0;32m/usr/lib/python3.10/asyncio/base_events.py:603\u001b[0m, in \u001b[0;36mrun_forever\u001b[0;34m()\u001b[0m\n\u001b[1;32m    602\u001b[0m \u001b[38;5;28;01mwhile\u001b[39;00m \u001b[38;5;28;01mTrue\u001b[39;00m:\n\u001b[0;32m--> 603\u001b[0m     \u001b[38;5;28mself\u001b[39m\u001b[38;5;241m.\u001b[39m_run_once()\n\u001b[1;32m    604\u001b[0m     \u001b[38;5;28;01mif\u001b[39;00m \u001b[38;5;28mself\u001b[39m\u001b[38;5;241m.\u001b[39m_stopping:\n",
      "File \u001b[0;32m/usr/lib/python3.10/asyncio/base_events.py:1909\u001b[0m, in \u001b[0;36m_run_once\u001b[0;34m()\u001b[0m\n\u001b[1;32m   1908\u001b[0m     \u001b[38;5;28;01melse\u001b[39;00m:\n\u001b[0;32m-> 1909\u001b[0m         handle\u001b[38;5;241m.\u001b[39m_run()\n\u001b[1;32m   1910\u001b[0m handle \u001b[38;5;241m=\u001b[39m \u001b[38;5;28;01mNone\u001b[39;00m\n",
      "File \u001b[0;32m/usr/lib/python3.10/asyncio/events.py:80\u001b[0m, in \u001b[0;36m_run\u001b[0;34m()\u001b[0m\n\u001b[1;32m     79\u001b[0m \u001b[38;5;28;01mtry\u001b[39;00m:\n\u001b[0;32m---> 80\u001b[0m     \u001b[38;5;28mself\u001b[39m\u001b[38;5;241m.\u001b[39m_context\u001b[38;5;241m.\u001b[39mrun(\u001b[38;5;28mself\u001b[39m\u001b[38;5;241m.\u001b[39m_callback, \u001b[38;5;241m*\u001b[39m\u001b[38;5;28mself\u001b[39m\u001b[38;5;241m.\u001b[39m_args)\n\u001b[1;32m     81\u001b[0m \u001b[38;5;28;01mexcept\u001b[39;00m (\u001b[38;5;167;01mSystemExit\u001b[39;00m, \u001b[38;5;167;01mKeyboardInterrupt\u001b[39;00m):\n",
      "File \u001b[0;32m~/jax_ws/.venv_jax/lib/python3.10/site-packages/ipykernel/kernelbase.py:701\u001b[0m, in \u001b[0;36mshell_main\u001b[0;34m()\u001b[0m\n\u001b[1;32m    700\u001b[0m \u001b[38;5;28;01masync\u001b[39;00m \u001b[38;5;28;01mwith\u001b[39;00m asyncio_lock:\n\u001b[0;32m--> 701\u001b[0m     \u001b[38;5;28;01mawait\u001b[39;00m \u001b[38;5;28mself\u001b[39m\u001b[38;5;241m.\u001b[39mdispatch_shell(msg, subshell_id\u001b[38;5;241m=\u001b[39msubshell_id)\n",
      "File \u001b[0;32m~/jax_ws/.venv_jax/lib/python3.10/site-packages/ipykernel/kernelbase.py:469\u001b[0m, in \u001b[0;36mdispatch_shell\u001b[0;34m()\u001b[0m\n\u001b[1;32m    468\u001b[0m     \u001b[38;5;28;01mif\u001b[39;00m inspect\u001b[38;5;241m.\u001b[39misawaitable(result):\n\u001b[0;32m--> 469\u001b[0m         \u001b[38;5;28;01mawait\u001b[39;00m result\n\u001b[1;32m    470\u001b[0m \u001b[38;5;28;01mexcept\u001b[39;00m \u001b[38;5;167;01mException\u001b[39;00m:\n",
      "File \u001b[0;32m~/jax_ws/.venv_jax/lib/python3.10/site-packages/ipykernel/ipkernel.py:379\u001b[0m, in \u001b[0;36mexecute_request\u001b[0;34m()\u001b[0m\n\u001b[1;32m    378\u001b[0m \u001b[38;5;28mself\u001b[39m\u001b[38;5;241m.\u001b[39m_associate_new_top_level_threads_with(parent_header)\n\u001b[0;32m--> 379\u001b[0m \u001b[38;5;28;01mawait\u001b[39;00m \u001b[38;5;28msuper\u001b[39m()\u001b[38;5;241m.\u001b[39mexecute_request(stream, ident, parent)\n",
      "File \u001b[0;32m~/jax_ws/.venv_jax/lib/python3.10/site-packages/ipykernel/kernelbase.py:899\u001b[0m, in \u001b[0;36mexecute_request\u001b[0;34m()\u001b[0m\n\u001b[1;32m    898\u001b[0m \u001b[38;5;28;01mif\u001b[39;00m inspect\u001b[38;5;241m.\u001b[39misawaitable(reply_content):\n\u001b[0;32m--> 899\u001b[0m     reply_content \u001b[38;5;241m=\u001b[39m \u001b[38;5;28;01mawait\u001b[39;00m reply_content\n\u001b[1;32m    900\u001b[0m \u001b[38;5;28;01melse\u001b[39;00m:\n",
      "File \u001b[0;32m~/jax_ws/.venv_jax/lib/python3.10/site-packages/ipykernel/ipkernel.py:471\u001b[0m, in \u001b[0;36mdo_execute\u001b[0;34m()\u001b[0m\n\u001b[1;32m    470\u001b[0m \u001b[38;5;28;01mif\u001b[39;00m accepts_params[\u001b[38;5;124m\"\u001b[39m\u001b[38;5;124mcell_id\u001b[39m\u001b[38;5;124m\"\u001b[39m]:\n\u001b[0;32m--> 471\u001b[0m     res \u001b[38;5;241m=\u001b[39m shell\u001b[38;5;241m.\u001b[39mrun_cell(\n\u001b[1;32m    472\u001b[0m         code,\n\u001b[1;32m    473\u001b[0m         store_history\u001b[38;5;241m=\u001b[39mstore_history,\n\u001b[1;32m    474\u001b[0m         silent\u001b[38;5;241m=\u001b[39msilent,\n\u001b[1;32m    475\u001b[0m         cell_id\u001b[38;5;241m=\u001b[39mcell_id,\n\u001b[1;32m    476\u001b[0m     )\n\u001b[1;32m    477\u001b[0m \u001b[38;5;28;01melse\u001b[39;00m:\n",
      "File \u001b[0;32m~/jax_ws/.venv_jax/lib/python3.10/site-packages/ipykernel/zmqshell.py:632\u001b[0m, in \u001b[0;36mrun_cell\u001b[0;34m()\u001b[0m\n\u001b[1;32m    631\u001b[0m \u001b[38;5;28mself\u001b[39m\u001b[38;5;241m.\u001b[39m_last_traceback \u001b[38;5;241m=\u001b[39m \u001b[38;5;28;01mNone\u001b[39;00m\n\u001b[0;32m--> 632\u001b[0m \u001b[38;5;28;01mreturn\u001b[39;00m \u001b[38;5;28msuper\u001b[39m()\u001b[38;5;241m.\u001b[39mrun_cell(\u001b[38;5;241m*\u001b[39margs, \u001b[38;5;241m*\u001b[39m\u001b[38;5;241m*\u001b[39mkwargs)\n",
      "File \u001b[0;32m~/jax_ws/.venv_jax/lib/python3.10/site-packages/IPython/core/interactiveshell.py:3077\u001b[0m, in \u001b[0;36mrun_cell\u001b[0;34m()\u001b[0m\n\u001b[1;32m   3076\u001b[0m \u001b[38;5;28;01mtry\u001b[39;00m:\n\u001b[0;32m-> 3077\u001b[0m     result \u001b[38;5;241m=\u001b[39m \u001b[38;5;28mself\u001b[39m\u001b[38;5;241m.\u001b[39m_run_cell(\n\u001b[1;32m   3078\u001b[0m         raw_cell, store_history, silent, shell_futures, cell_id\n\u001b[1;32m   3079\u001b[0m     )\n\u001b[1;32m   3080\u001b[0m \u001b[38;5;28;01mfinally\u001b[39;00m:\n",
      "File \u001b[0;32m~/jax_ws/.venv_jax/lib/python3.10/site-packages/IPython/core/interactiveshell.py:3132\u001b[0m, in \u001b[0;36m_run_cell\u001b[0;34m()\u001b[0m\n\u001b[1;32m   3131\u001b[0m \u001b[38;5;28;01mtry\u001b[39;00m:\n\u001b[0;32m-> 3132\u001b[0m     result \u001b[38;5;241m=\u001b[39m runner(coro)\n\u001b[1;32m   3133\u001b[0m \u001b[38;5;28;01mexcept\u001b[39;00m \u001b[38;5;167;01mBaseException\u001b[39;00m \u001b[38;5;28;01mas\u001b[39;00m e:\n",
      "File \u001b[0;32m~/jax_ws/.venv_jax/lib/python3.10/site-packages/IPython/core/async_helpers.py:128\u001b[0m, in \u001b[0;36m_pseudo_sync_runner\u001b[0;34m()\u001b[0m\n\u001b[1;32m    127\u001b[0m \u001b[38;5;28;01mtry\u001b[39;00m:\n\u001b[0;32m--> 128\u001b[0m     coro\u001b[38;5;241m.\u001b[39msend(\u001b[38;5;28;01mNone\u001b[39;00m)\n\u001b[1;32m    129\u001b[0m \u001b[38;5;28;01mexcept\u001b[39;00m \u001b[38;5;167;01mStopIteration\u001b[39;00m \u001b[38;5;28;01mas\u001b[39;00m exc:\n",
      "File \u001b[0;32m~/jax_ws/.venv_jax/lib/python3.10/site-packages/IPython/core/interactiveshell.py:3336\u001b[0m, in \u001b[0;36mrun_cell_async\u001b[0;34m()\u001b[0m\n\u001b[1;32m   3333\u001b[0m interactivity \u001b[38;5;241m=\u001b[39m \u001b[38;5;124m\"\u001b[39m\u001b[38;5;124mnone\u001b[39m\u001b[38;5;124m\"\u001b[39m \u001b[38;5;28;01mif\u001b[39;00m silent \u001b[38;5;28;01melse\u001b[39;00m \u001b[38;5;28mself\u001b[39m\u001b[38;5;241m.\u001b[39mast_node_interactivity\n\u001b[0;32m-> 3336\u001b[0m has_raised \u001b[38;5;241m=\u001b[39m \u001b[38;5;28;01mawait\u001b[39;00m \u001b[38;5;28mself\u001b[39m\u001b[38;5;241m.\u001b[39mrun_ast_nodes(code_ast\u001b[38;5;241m.\u001b[39mbody, cell_name,\n\u001b[1;32m   3337\u001b[0m        interactivity\u001b[38;5;241m=\u001b[39minteractivity, compiler\u001b[38;5;241m=\u001b[39mcompiler, result\u001b[38;5;241m=\u001b[39mresult)\n\u001b[1;32m   3339\u001b[0m \u001b[38;5;28mself\u001b[39m\u001b[38;5;241m.\u001b[39mlast_execution_succeeded \u001b[38;5;241m=\u001b[39m \u001b[38;5;129;01mnot\u001b[39;00m has_raised\n",
      "File \u001b[0;32m~/jax_ws/.venv_jax/lib/python3.10/site-packages/IPython/core/interactiveshell.py:3519\u001b[0m, in \u001b[0;36mrun_ast_nodes\u001b[0;34m()\u001b[0m\n\u001b[1;32m   3518\u001b[0m     asy \u001b[38;5;241m=\u001b[39m compare(code)\n\u001b[0;32m-> 3519\u001b[0m \u001b[38;5;28;01mif\u001b[39;00m \u001b[38;5;28;01mawait\u001b[39;00m \u001b[38;5;28mself\u001b[39m\u001b[38;5;241m.\u001b[39mrun_code(code, result, async_\u001b[38;5;241m=\u001b[39masy):\n\u001b[1;32m   3520\u001b[0m     \u001b[38;5;28;01mreturn\u001b[39;00m \u001b[38;5;28;01mTrue\u001b[39;00m\n",
      "File \u001b[0;32m~/jax_ws/.venv_jax/lib/python3.10/site-packages/IPython/core/interactiveshell.py:3579\u001b[0m, in \u001b[0;36mrun_code\u001b[0;34m()\u001b[0m\n\u001b[1;32m   3578\u001b[0m     \u001b[38;5;28;01melse\u001b[39;00m:\n\u001b[0;32m-> 3579\u001b[0m         exec(code_obj, \u001b[38;5;28mself\u001b[39m\u001b[38;5;241m.\u001b[39muser_global_ns, \u001b[38;5;28mself\u001b[39m\u001b[38;5;241m.\u001b[39muser_ns)\n\u001b[1;32m   3580\u001b[0m \u001b[38;5;28;01mfinally\u001b[39;00m:\n\u001b[1;32m   3581\u001b[0m     \u001b[38;5;66;03m# Reset our crash handler in place\u001b[39;00m\n",
      "Cell \u001b[0;32mIn[39], line 3\u001b[0m\n\u001b[1;32m      2\u001b[0m cost_params \u001b[38;5;241m=\u001b[39m AcrobotCostParams()\n\u001b[0;32m----> 3\u001b[0m dynamics_grad \u001b[38;5;241m=\u001b[39m jax\u001b[38;5;241m.\u001b[39mgrad(acrobot_control_effort, argnums\u001b[38;5;241m=\u001b[39m\u001b[38;5;241m0\u001b[39m)(\n\u001b[1;32m      4\u001b[0m     dynamics_params, cost_params)\n\u001b[1;32m      5\u001b[0m printer\u001b[38;5;241m.\u001b[39mpprint(jax\u001b[38;5;241m.\u001b[39mtree\u001b[38;5;241m.\u001b[39mmap(\u001b[38;5;28mfloat\u001b[39m, dynamics_grad))\n",
      "Cell \u001b[0;32mIn[37], line 9\u001b[0m, in \u001b[0;36macrobot_control_effort\u001b[0;34m()\u001b[0m\n\u001b[1;32m      8\u001b[0m U \u001b[38;5;241m=\u001b[39m jnp\u001b[38;5;241m.\u001b[39mzeros((T, \u001b[38;5;241m1\u001b[39m))\n\u001b[0;32m----> 9\u001b[0m _, U, \u001b[38;5;241m*\u001b[39m_ \u001b[38;5;241m=\u001b[39m ilqr(\n\u001b[1;32m     10\u001b[0m     partial(acrobot_cost, params\u001b[38;5;241m=\u001b[39mcost_params),\n\u001b[1;32m     11\u001b[0m     dynamics, x0, U,\n\u001b[1;32m     12\u001b[0m     maxiter\u001b[38;5;241m=\u001b[39m\u001b[38;5;241m100\u001b[39m, make_psd\u001b[38;5;241m=\u001b[39m\u001b[38;5;28;01mFalse\u001b[39;00m, vjp_method\u001b[38;5;241m=\u001b[39m\u001b[38;5;124m'\u001b[39m\u001b[38;5;124mexplicit\u001b[39m\u001b[38;5;124m'\u001b[39m)\n\u001b[1;32m     13\u001b[0m \u001b[38;5;28;01mreturn\u001b[39;00m jnp\u001b[38;5;241m.\u001b[39msum(U \u001b[38;5;241m*\u001b[39m\u001b[38;5;241m*\u001b[39m \u001b[38;5;241m2\u001b[39m)\n",
      "File \u001b[0;32m~/jax_ws/.venv_jax/lib/python3.10/site-packages/trajax/optimizers.py:546\u001b[0m, in \u001b[0;36milqr\u001b[0;34m()\u001b[0m\n\u001b[1;32m    545\u001b[0m \u001b[38;5;28;01mif\u001b[39;00m vjp_method \u001b[38;5;241m==\u001b[39m \u001b[38;5;124m'\u001b[39m\u001b[38;5;124mexplicit\u001b[39m\u001b[38;5;124m'\u001b[39m:\n\u001b[0;32m--> 546\u001b[0m   \u001b[38;5;28;01mreturn\u001b[39;00m _ilqr_explicit_vjp(new_cost_fn, new_dynamics_fn, x0, U,\n\u001b[1;32m    547\u001b[0m                             (\u001b[38;5;28mtuple\u001b[39m(cost_args),), (\u001b[38;5;28mtuple\u001b[39m(dynamics_args),),\n\u001b[1;32m    548\u001b[0m                             maxiter, grad_norm_threshold,\n\u001b[1;32m    549\u001b[0m                             relative_grad_norm_threshold, obj_step_threshold,\n\u001b[1;32m    550\u001b[0m                             inputs_step_threshold, make_psd, psd_delta,\n\u001b[1;32m    551\u001b[0m                             alpha_0, alpha_min, vjp_options)\n\u001b[1;32m    552\u001b[0m \u001b[38;5;28;01melif\u001b[39;00m vjp_method \u001b[38;5;241m==\u001b[39m \u001b[38;5;124m'\u001b[39m\u001b[38;5;124mcg\u001b[39m\u001b[38;5;124m'\u001b[39m:\n",
      "\u001b[0;31mJaxStackTraceBeforeTransformation\u001b[0m: AttributeError: jax.tree_map was removed in JAX v0.6.0: use jax.tree.map (jax v0.4.25 or newer) or jax.tree_util.tree_map (any JAX version).\n\nThe preceding stack trace is the source of the JAX operation that, once transformed by JAX, triggered the following exception.\n\n--------------------",
      "\nThe above exception was the direct cause of the following exception:\n",
      "\u001b[0;31mAttributeError\u001b[0m                            Traceback (most recent call last)",
      "Cell \u001b[0;32mIn[39], line 3\u001b[0m\n\u001b[1;32m      1\u001b[0m dynamics_params \u001b[38;5;241m=\u001b[39m AcrobotDynamicsParams()\n\u001b[1;32m      2\u001b[0m cost_params \u001b[38;5;241m=\u001b[39m AcrobotCostParams()\n\u001b[0;32m----> 3\u001b[0m dynamics_grad \u001b[38;5;241m=\u001b[39m \u001b[43mjax\u001b[49m\u001b[38;5;241;43m.\u001b[39;49m\u001b[43mgrad\u001b[49m\u001b[43m(\u001b[49m\u001b[43macrobot_control_effort\u001b[49m\u001b[43m,\u001b[49m\u001b[43m \u001b[49m\u001b[43margnums\u001b[49m\u001b[38;5;241;43m=\u001b[39;49m\u001b[38;5;241;43m0\u001b[39;49m\u001b[43m)\u001b[49m\u001b[43m(\u001b[49m\n\u001b[1;32m      4\u001b[0m \u001b[43m    \u001b[49m\u001b[43mdynamics_params\u001b[49m\u001b[43m,\u001b[49m\u001b[43m \u001b[49m\u001b[43mcost_params\u001b[49m\u001b[43m)\u001b[49m\n\u001b[1;32m      5\u001b[0m printer\u001b[38;5;241m.\u001b[39mpprint(jax\u001b[38;5;241m.\u001b[39mtree\u001b[38;5;241m.\u001b[39mmap(\u001b[38;5;28mfloat\u001b[39m, dynamics_grad))\n",
      "    \u001b[0;31m[... skipping hidden 15 frame]\u001b[0m\n",
      "File \u001b[0;32m~/jax_ws/.venv_jax/lib/python3.10/site-packages/trajax/optimizers.py:699\u001b[0m, in \u001b[0;36m_ilqr_explicit_bwd\u001b[0;34m(solve_hess_inv_v_fn, cost, dynamics, fwd_residuals, gX_gU_gNonDifferentiableOutputs)\u001b[0m\n\u001b[1;32m    695\u001b[0m   \u001b[38;5;28;01mreturn\u001b[39;00m _objective_template(cost, dynamics, U, x0, cost_args, dynamics_args)\n\u001b[1;32m    696\u001b[0m _, rhs_vjp_fn \u001b[38;5;241m=\u001b[39m jax\u001b[38;5;241m.\u001b[39mvjp(\n\u001b[1;32m    697\u001b[0m     \u001b[38;5;28;01mlambda\u001b[39;00m flat_params: jax\u001b[38;5;241m.\u001b[39mgrad(obj_fn, argnums\u001b[38;5;241m=\u001b[39m\u001b[38;5;241m0\u001b[39m)(U_star, flat_params),\n\u001b[1;32m    698\u001b[0m     flat_params)\n\u001b[0;32m--> 699\u001b[0m grad_thru_U, \u001b[38;5;241m=\u001b[39m \u001b[43m_pytree_negate\u001b[49m\u001b[43m(\u001b[49m\u001b[43mrhs_vjp_fn\u001b[49m\u001b[43m(\u001b[49m\u001b[43mlhs\u001b[49m\u001b[43m)\u001b[49m\u001b[43m)\u001b[49m\n\u001b[1;32m    701\u001b[0m zeros_like_args \u001b[38;5;241m=\u001b[39m _pytree_zeros_like(args)\n\u001b[1;32m    702\u001b[0m gradients \u001b[38;5;241m=\u001b[39m unflatten_params(grad_thru_U \u001b[38;5;241m+\u001b[39m grad_thru_X)\n",
      "File \u001b[0;32m~/jax_ws/.venv_jax/lib/python3.10/site-packages/trajax/optimizers.py:81\u001b[0m, in \u001b[0;36m_pytree_negate\u001b[0;34m(tree)\u001b[0m\n\u001b[1;32m     80\u001b[0m \u001b[38;5;28;01mdef\u001b[39;00m\u001b[38;5;250m \u001b[39m\u001b[38;5;21m_pytree_negate\u001b[39m(tree):\n\u001b[0;32m---> 81\u001b[0m   \u001b[38;5;28;01mreturn\u001b[39;00m \u001b[43m_pytree_scale\u001b[49m\u001b[43m(\u001b[49m\u001b[43mtree\u001b[49m\u001b[43m,\u001b[49m\u001b[43m \u001b[49m\u001b[38;5;241;43m-\u001b[39;49m\u001b[38;5;241;43m1.0\u001b[39;49m\u001b[43m)\u001b[49m\n",
      "File \u001b[0;32m~/jax_ws/.venv_jax/lib/python3.10/site-packages/trajax/optimizers.py:77\u001b[0m, in \u001b[0;36m_pytree_scale\u001b[0;34m(tree, scale)\u001b[0m\n\u001b[1;32m     76\u001b[0m \u001b[38;5;28;01mdef\u001b[39;00m\u001b[38;5;250m \u001b[39m\u001b[38;5;21m_pytree_scale\u001b[39m(tree, scale):\n\u001b[0;32m---> 77\u001b[0m   \u001b[38;5;28;01mreturn\u001b[39;00m \u001b[43mjax\u001b[49m\u001b[38;5;241;43m.\u001b[39;49m\u001b[43mtree_map\u001b[49m(\u001b[38;5;28;01mlambda\u001b[39;00m leaf: scale \u001b[38;5;241m*\u001b[39m leaf, tree)\n",
      "File \u001b[0;32m~/jax_ws/.venv_jax/lib/python3.10/site-packages/jax/_src/deprecations.py:54\u001b[0m, in \u001b[0;36mdeprecation_getattr.<locals>.getattr\u001b[0;34m(name)\u001b[0m\n\u001b[1;32m     52\u001b[0m message, fn \u001b[38;5;241m=\u001b[39m deprecations[name]\n\u001b[1;32m     53\u001b[0m \u001b[38;5;28;01mif\u001b[39;00m fn \u001b[38;5;129;01mis\u001b[39;00m \u001b[38;5;28;01mNone\u001b[39;00m:  \u001b[38;5;66;03m# Is the deprecation accelerated?\u001b[39;00m\n\u001b[0;32m---> 54\u001b[0m   \u001b[38;5;28;01mraise\u001b[39;00m \u001b[38;5;167;01mAttributeError\u001b[39;00m(message)\n\u001b[1;32m     55\u001b[0m warnings\u001b[38;5;241m.\u001b[39mwarn(message, \u001b[38;5;167;01mDeprecationWarning\u001b[39;00m, stacklevel\u001b[38;5;241m=\u001b[39m\u001b[38;5;241m2\u001b[39m)\n\u001b[1;32m     56\u001b[0m \u001b[38;5;28;01mreturn\u001b[39;00m fn\n",
      "\u001b[0;31mAttributeError\u001b[0m: jax.tree_map was removed in JAX v0.6.0: use jax.tree.map (jax v0.4.25 or newer) or jax.tree_util.tree_map (any JAX version)."
     ]
    }
   ],
   "source": [
    "dynamics_params = AcrobotDynamicsParams()\n",
    "cost_params = AcrobotCostParams()\n",
    "dynamics_grad = jax.grad(acrobot_control_effort, argnums=0)(\n",
    "    dynamics_params, cost_params)\n",
    "printer.pprint(jax.tree.map(float, dynamics_grad))\n"
   ]
  },
  {
   "cell_type": "markdown",
   "id": "97c33cd0",
   "metadata": {},
   "source": [
    "Here, we see that the `LINK_COM_POS_2` parameter has the most influence. Turning to the cost parameters, we see that our intuition is indeed correct."
   ]
  },
  {
   "cell_type": "code",
   "execution_count": null,
   "id": "59719dad",
   "metadata": {},
   "outputs": [
    {
     "ename": "AttributeError",
     "evalue": "jax.tree_map was removed in JAX v0.6.0: use jax.tree.map (jax v0.4.25 or newer) or jax.tree_util.tree_map (any JAX version).",
     "output_type": "error",
     "traceback": [
      "\u001b[0;31m---------------------------------------------------------------------------\u001b[0m",
      "\u001b[0;31mJaxStackTraceBeforeTransformation\u001b[0m         Traceback (most recent call last)",
      "File \u001b[0;32m/usr/lib/python3.10/runpy.py:196\u001b[0m, in \u001b[0;36m_run_module_as_main\u001b[0;34m()\u001b[0m\n\u001b[1;32m    195\u001b[0m     sys\u001b[38;5;241m.\u001b[39margv[\u001b[38;5;241m0\u001b[39m] \u001b[38;5;241m=\u001b[39m mod_spec\u001b[38;5;241m.\u001b[39morigin\n\u001b[0;32m--> 196\u001b[0m \u001b[38;5;28;01mreturn\u001b[39;00m _run_code(code, main_globals, \u001b[38;5;28;01mNone\u001b[39;00m,\n\u001b[1;32m    197\u001b[0m                  \u001b[38;5;124m\"\u001b[39m\u001b[38;5;124m__main__\u001b[39m\u001b[38;5;124m\"\u001b[39m, mod_spec)\n",
      "File \u001b[0;32m/usr/lib/python3.10/runpy.py:86\u001b[0m, in \u001b[0;36m_run_code\u001b[0;34m()\u001b[0m\n\u001b[1;32m     79\u001b[0m run_globals\u001b[38;5;241m.\u001b[39mupdate(\u001b[38;5;18m__name__\u001b[39m \u001b[38;5;241m=\u001b[39m mod_name,\n\u001b[1;32m     80\u001b[0m                    \u001b[38;5;18m__file__\u001b[39m \u001b[38;5;241m=\u001b[39m fname,\n\u001b[1;32m     81\u001b[0m                    __cached__ \u001b[38;5;241m=\u001b[39m cached,\n\u001b[0;32m   (...)\u001b[0m\n\u001b[1;32m     84\u001b[0m                    __package__ \u001b[38;5;241m=\u001b[39m pkg_name,\n\u001b[1;32m     85\u001b[0m                    __spec__ \u001b[38;5;241m=\u001b[39m mod_spec)\n\u001b[0;32m---> 86\u001b[0m exec(code, run_globals)\n\u001b[1;32m     87\u001b[0m \u001b[38;5;28;01mreturn\u001b[39;00m run_globals\n",
      "File \u001b[0;32m~/jax_ws/.venv_jax/lib/python3.10/site-packages/ipykernel_launcher.py:18\u001b[0m\n\u001b[1;32m     16\u001b[0m \u001b[38;5;28;01mfrom\u001b[39;00m\u001b[38;5;250m \u001b[39m\u001b[38;5;21;01mipykernel\u001b[39;00m\u001b[38;5;250m \u001b[39m\u001b[38;5;28;01mimport\u001b[39;00m kernelapp \u001b[38;5;28;01mas\u001b[39;00m app\n\u001b[0;32m---> 18\u001b[0m app\u001b[38;5;241m.\u001b[39mlaunch_new_instance()\n",
      "File \u001b[0;32m~/jax_ws/.venv_jax/lib/python3.10/site-packages/traitlets/config/application.py:1075\u001b[0m, in \u001b[0;36mlaunch_instance\u001b[0;34m()\u001b[0m\n\u001b[1;32m   1074\u001b[0m app\u001b[38;5;241m.\u001b[39minitialize(argv)\n\u001b[0;32m-> 1075\u001b[0m app\u001b[38;5;241m.\u001b[39mstart()\n",
      "File \u001b[0;32m~/jax_ws/.venv_jax/lib/python3.10/site-packages/ipykernel/kernelapp.py:758\u001b[0m, in \u001b[0;36mstart\u001b[0;34m()\u001b[0m\n\u001b[1;32m    757\u001b[0m \u001b[38;5;28;01mtry\u001b[39;00m:\n\u001b[0;32m--> 758\u001b[0m     \u001b[38;5;28mself\u001b[39m\u001b[38;5;241m.\u001b[39mio_loop\u001b[38;5;241m.\u001b[39mstart()\n\u001b[1;32m    759\u001b[0m \u001b[38;5;28;01mexcept\u001b[39;00m \u001b[38;5;167;01mKeyboardInterrupt\u001b[39;00m:\n",
      "File \u001b[0;32m~/jax_ws/.venv_jax/lib/python3.10/site-packages/tornado/platform/asyncio.py:211\u001b[0m, in \u001b[0;36mstart\u001b[0;34m()\u001b[0m\n\u001b[1;32m    210\u001b[0m \u001b[38;5;28;01mdef\u001b[39;00m\u001b[38;5;250m \u001b[39m\u001b[38;5;21mstart\u001b[39m(\u001b[38;5;28mself\u001b[39m) \u001b[38;5;241m-\u001b[39m\u001b[38;5;241m>\u001b[39m \u001b[38;5;28;01mNone\u001b[39;00m:\n\u001b[0;32m--> 211\u001b[0m     \u001b[38;5;28mself\u001b[39m\u001b[38;5;241m.\u001b[39masyncio_loop\u001b[38;5;241m.\u001b[39mrun_forever()\n",
      "File \u001b[0;32m/usr/lib/python3.10/asyncio/base_events.py:603\u001b[0m, in \u001b[0;36mrun_forever\u001b[0;34m()\u001b[0m\n\u001b[1;32m    602\u001b[0m \u001b[38;5;28;01mwhile\u001b[39;00m \u001b[38;5;28;01mTrue\u001b[39;00m:\n\u001b[0;32m--> 603\u001b[0m     \u001b[38;5;28mself\u001b[39m\u001b[38;5;241m.\u001b[39m_run_once()\n\u001b[1;32m    604\u001b[0m     \u001b[38;5;28;01mif\u001b[39;00m \u001b[38;5;28mself\u001b[39m\u001b[38;5;241m.\u001b[39m_stopping:\n",
      "File \u001b[0;32m/usr/lib/python3.10/asyncio/base_events.py:1909\u001b[0m, in \u001b[0;36m_run_once\u001b[0;34m()\u001b[0m\n\u001b[1;32m   1908\u001b[0m     \u001b[38;5;28;01melse\u001b[39;00m:\n\u001b[0;32m-> 1909\u001b[0m         handle\u001b[38;5;241m.\u001b[39m_run()\n\u001b[1;32m   1910\u001b[0m handle \u001b[38;5;241m=\u001b[39m \u001b[38;5;28;01mNone\u001b[39;00m\n",
      "File \u001b[0;32m/usr/lib/python3.10/asyncio/events.py:80\u001b[0m, in \u001b[0;36m_run\u001b[0;34m()\u001b[0m\n\u001b[1;32m     79\u001b[0m \u001b[38;5;28;01mtry\u001b[39;00m:\n\u001b[0;32m---> 80\u001b[0m     \u001b[38;5;28mself\u001b[39m\u001b[38;5;241m.\u001b[39m_context\u001b[38;5;241m.\u001b[39mrun(\u001b[38;5;28mself\u001b[39m\u001b[38;5;241m.\u001b[39m_callback, \u001b[38;5;241m*\u001b[39m\u001b[38;5;28mself\u001b[39m\u001b[38;5;241m.\u001b[39m_args)\n\u001b[1;32m     81\u001b[0m \u001b[38;5;28;01mexcept\u001b[39;00m (\u001b[38;5;167;01mSystemExit\u001b[39;00m, \u001b[38;5;167;01mKeyboardInterrupt\u001b[39;00m):\n",
      "File \u001b[0;32m~/jax_ws/.venv_jax/lib/python3.10/site-packages/ipykernel/kernelbase.py:701\u001b[0m, in \u001b[0;36mshell_main\u001b[0;34m()\u001b[0m\n\u001b[1;32m    700\u001b[0m \u001b[38;5;28;01masync\u001b[39;00m \u001b[38;5;28;01mwith\u001b[39;00m asyncio_lock:\n\u001b[0;32m--> 701\u001b[0m     \u001b[38;5;28;01mawait\u001b[39;00m \u001b[38;5;28mself\u001b[39m\u001b[38;5;241m.\u001b[39mdispatch_shell(msg, subshell_id\u001b[38;5;241m=\u001b[39msubshell_id)\n",
      "File \u001b[0;32m~/jax_ws/.venv_jax/lib/python3.10/site-packages/ipykernel/kernelbase.py:469\u001b[0m, in \u001b[0;36mdispatch_shell\u001b[0;34m()\u001b[0m\n\u001b[1;32m    468\u001b[0m     \u001b[38;5;28;01mif\u001b[39;00m inspect\u001b[38;5;241m.\u001b[39misawaitable(result):\n\u001b[0;32m--> 469\u001b[0m         \u001b[38;5;28;01mawait\u001b[39;00m result\n\u001b[1;32m    470\u001b[0m \u001b[38;5;28;01mexcept\u001b[39;00m \u001b[38;5;167;01mException\u001b[39;00m:\n",
      "File \u001b[0;32m~/jax_ws/.venv_jax/lib/python3.10/site-packages/ipykernel/ipkernel.py:379\u001b[0m, in \u001b[0;36mexecute_request\u001b[0;34m()\u001b[0m\n\u001b[1;32m    378\u001b[0m \u001b[38;5;28mself\u001b[39m\u001b[38;5;241m.\u001b[39m_associate_new_top_level_threads_with(parent_header)\n\u001b[0;32m--> 379\u001b[0m \u001b[38;5;28;01mawait\u001b[39;00m \u001b[38;5;28msuper\u001b[39m()\u001b[38;5;241m.\u001b[39mexecute_request(stream, ident, parent)\n",
      "File \u001b[0;32m~/jax_ws/.venv_jax/lib/python3.10/site-packages/ipykernel/kernelbase.py:899\u001b[0m, in \u001b[0;36mexecute_request\u001b[0;34m()\u001b[0m\n\u001b[1;32m    898\u001b[0m \u001b[38;5;28;01mif\u001b[39;00m inspect\u001b[38;5;241m.\u001b[39misawaitable(reply_content):\n\u001b[0;32m--> 899\u001b[0m     reply_content \u001b[38;5;241m=\u001b[39m \u001b[38;5;28;01mawait\u001b[39;00m reply_content\n\u001b[1;32m    900\u001b[0m \u001b[38;5;28;01melse\u001b[39;00m:\n",
      "File \u001b[0;32m~/jax_ws/.venv_jax/lib/python3.10/site-packages/ipykernel/ipkernel.py:471\u001b[0m, in \u001b[0;36mdo_execute\u001b[0;34m()\u001b[0m\n\u001b[1;32m    470\u001b[0m \u001b[38;5;28;01mif\u001b[39;00m accepts_params[\u001b[38;5;124m\"\u001b[39m\u001b[38;5;124mcell_id\u001b[39m\u001b[38;5;124m\"\u001b[39m]:\n\u001b[0;32m--> 471\u001b[0m     res \u001b[38;5;241m=\u001b[39m shell\u001b[38;5;241m.\u001b[39mrun_cell(\n\u001b[1;32m    472\u001b[0m         code,\n\u001b[1;32m    473\u001b[0m         store_history\u001b[38;5;241m=\u001b[39mstore_history,\n\u001b[1;32m    474\u001b[0m         silent\u001b[38;5;241m=\u001b[39msilent,\n\u001b[1;32m    475\u001b[0m         cell_id\u001b[38;5;241m=\u001b[39mcell_id,\n\u001b[1;32m    476\u001b[0m     )\n\u001b[1;32m    477\u001b[0m \u001b[38;5;28;01melse\u001b[39;00m:\n",
      "File \u001b[0;32m~/jax_ws/.venv_jax/lib/python3.10/site-packages/ipykernel/zmqshell.py:632\u001b[0m, in \u001b[0;36mrun_cell\u001b[0;34m()\u001b[0m\n\u001b[1;32m    631\u001b[0m \u001b[38;5;28mself\u001b[39m\u001b[38;5;241m.\u001b[39m_last_traceback \u001b[38;5;241m=\u001b[39m \u001b[38;5;28;01mNone\u001b[39;00m\n\u001b[0;32m--> 632\u001b[0m \u001b[38;5;28;01mreturn\u001b[39;00m \u001b[38;5;28msuper\u001b[39m()\u001b[38;5;241m.\u001b[39mrun_cell(\u001b[38;5;241m*\u001b[39margs, \u001b[38;5;241m*\u001b[39m\u001b[38;5;241m*\u001b[39mkwargs)\n",
      "File \u001b[0;32m~/jax_ws/.venv_jax/lib/python3.10/site-packages/IPython/core/interactiveshell.py:3077\u001b[0m, in \u001b[0;36mrun_cell\u001b[0;34m()\u001b[0m\n\u001b[1;32m   3076\u001b[0m \u001b[38;5;28;01mtry\u001b[39;00m:\n\u001b[0;32m-> 3077\u001b[0m     result \u001b[38;5;241m=\u001b[39m \u001b[38;5;28mself\u001b[39m\u001b[38;5;241m.\u001b[39m_run_cell(\n\u001b[1;32m   3078\u001b[0m         raw_cell, store_history, silent, shell_futures, cell_id\n\u001b[1;32m   3079\u001b[0m     )\n\u001b[1;32m   3080\u001b[0m \u001b[38;5;28;01mfinally\u001b[39;00m:\n",
      "File \u001b[0;32m~/jax_ws/.venv_jax/lib/python3.10/site-packages/IPython/core/interactiveshell.py:3132\u001b[0m, in \u001b[0;36m_run_cell\u001b[0;34m()\u001b[0m\n\u001b[1;32m   3131\u001b[0m \u001b[38;5;28;01mtry\u001b[39;00m:\n\u001b[0;32m-> 3132\u001b[0m     result \u001b[38;5;241m=\u001b[39m runner(coro)\n\u001b[1;32m   3133\u001b[0m \u001b[38;5;28;01mexcept\u001b[39;00m \u001b[38;5;167;01mBaseException\u001b[39;00m \u001b[38;5;28;01mas\u001b[39;00m e:\n",
      "File \u001b[0;32m~/jax_ws/.venv_jax/lib/python3.10/site-packages/IPython/core/async_helpers.py:128\u001b[0m, in \u001b[0;36m_pseudo_sync_runner\u001b[0;34m()\u001b[0m\n\u001b[1;32m    127\u001b[0m \u001b[38;5;28;01mtry\u001b[39;00m:\n\u001b[0;32m--> 128\u001b[0m     coro\u001b[38;5;241m.\u001b[39msend(\u001b[38;5;28;01mNone\u001b[39;00m)\n\u001b[1;32m    129\u001b[0m \u001b[38;5;28;01mexcept\u001b[39;00m \u001b[38;5;167;01mStopIteration\u001b[39;00m \u001b[38;5;28;01mas\u001b[39;00m exc:\n",
      "File \u001b[0;32m~/jax_ws/.venv_jax/lib/python3.10/site-packages/IPython/core/interactiveshell.py:3336\u001b[0m, in \u001b[0;36mrun_cell_async\u001b[0;34m()\u001b[0m\n\u001b[1;32m   3333\u001b[0m interactivity \u001b[38;5;241m=\u001b[39m \u001b[38;5;124m\"\u001b[39m\u001b[38;5;124mnone\u001b[39m\u001b[38;5;124m\"\u001b[39m \u001b[38;5;28;01mif\u001b[39;00m silent \u001b[38;5;28;01melse\u001b[39;00m \u001b[38;5;28mself\u001b[39m\u001b[38;5;241m.\u001b[39mast_node_interactivity\n\u001b[0;32m-> 3336\u001b[0m has_raised \u001b[38;5;241m=\u001b[39m \u001b[38;5;28;01mawait\u001b[39;00m \u001b[38;5;28mself\u001b[39m\u001b[38;5;241m.\u001b[39mrun_ast_nodes(code_ast\u001b[38;5;241m.\u001b[39mbody, cell_name,\n\u001b[1;32m   3337\u001b[0m        interactivity\u001b[38;5;241m=\u001b[39minteractivity, compiler\u001b[38;5;241m=\u001b[39mcompiler, result\u001b[38;5;241m=\u001b[39mresult)\n\u001b[1;32m   3339\u001b[0m \u001b[38;5;28mself\u001b[39m\u001b[38;5;241m.\u001b[39mlast_execution_succeeded \u001b[38;5;241m=\u001b[39m \u001b[38;5;129;01mnot\u001b[39;00m has_raised\n",
      "File \u001b[0;32m~/jax_ws/.venv_jax/lib/python3.10/site-packages/IPython/core/interactiveshell.py:3519\u001b[0m, in \u001b[0;36mrun_ast_nodes\u001b[0;34m()\u001b[0m\n\u001b[1;32m   3518\u001b[0m     asy \u001b[38;5;241m=\u001b[39m compare(code)\n\u001b[0;32m-> 3519\u001b[0m \u001b[38;5;28;01mif\u001b[39;00m \u001b[38;5;28;01mawait\u001b[39;00m \u001b[38;5;28mself\u001b[39m\u001b[38;5;241m.\u001b[39mrun_code(code, result, async_\u001b[38;5;241m=\u001b[39masy):\n\u001b[1;32m   3520\u001b[0m     \u001b[38;5;28;01mreturn\u001b[39;00m \u001b[38;5;28;01mTrue\u001b[39;00m\n",
      "File \u001b[0;32m~/jax_ws/.venv_jax/lib/python3.10/site-packages/IPython/core/interactiveshell.py:3579\u001b[0m, in \u001b[0;36mrun_code\u001b[0;34m()\u001b[0m\n\u001b[1;32m   3578\u001b[0m     \u001b[38;5;28;01melse\u001b[39;00m:\n\u001b[0;32m-> 3579\u001b[0m         exec(code_obj, \u001b[38;5;28mself\u001b[39m\u001b[38;5;241m.\u001b[39muser_global_ns, \u001b[38;5;28mself\u001b[39m\u001b[38;5;241m.\u001b[39muser_ns)\n\u001b[1;32m   3580\u001b[0m \u001b[38;5;28;01mfinally\u001b[39;00m:\n\u001b[1;32m   3581\u001b[0m     \u001b[38;5;66;03m# Reset our crash handler in place\u001b[39;00m\n",
      "Cell \u001b[0;32mIn[48], line 1\u001b[0m\n\u001b[0;32m----> 1\u001b[0m cost_grad \u001b[38;5;241m=\u001b[39m jax\u001b[38;5;241m.\u001b[39mgrad(acrobot_control_effort, argnums\u001b[38;5;241m=\u001b[39m\u001b[38;5;241m1\u001b[39m)(\n\u001b[1;32m      2\u001b[0m     dynamics_params, cost_params)\n\u001b[1;32m      3\u001b[0m printer\u001b[38;5;241m.\u001b[39mpprint(jax\u001b[38;5;241m.\u001b[39mtree\u001b[38;5;241m.\u001b[39mmap(\u001b[38;5;28mfloat\u001b[39m, cost_grad))\n",
      "Cell \u001b[0;32mIn[42], line 9\u001b[0m, in \u001b[0;36macrobot_control_effort\u001b[0;34m()\u001b[0m\n\u001b[1;32m      8\u001b[0m U \u001b[38;5;241m=\u001b[39m jnp\u001b[38;5;241m.\u001b[39mzeros((T, \u001b[38;5;241m1\u001b[39m))\n\u001b[0;32m----> 9\u001b[0m _, U, \u001b[38;5;241m*\u001b[39m_ \u001b[38;5;241m=\u001b[39m ilqr(\n\u001b[1;32m     10\u001b[0m     partial(acrobot_cost, params\u001b[38;5;241m=\u001b[39mcost_params),\n\u001b[1;32m     11\u001b[0m     dynamics, x0, U,\n\u001b[1;32m     12\u001b[0m     maxiter\u001b[38;5;241m=\u001b[39m\u001b[38;5;241m100\u001b[39m, make_psd\u001b[38;5;241m=\u001b[39m\u001b[38;5;28;01mFalse\u001b[39;00m, vjp_method\u001b[38;5;241m=\u001b[39m\u001b[38;5;124m'\u001b[39m\u001b[38;5;124mexplicit\u001b[39m\u001b[38;5;124m'\u001b[39m)\n\u001b[1;32m     13\u001b[0m \u001b[38;5;28;01mreturn\u001b[39;00m jnp\u001b[38;5;241m.\u001b[39msum(U \u001b[38;5;241m*\u001b[39m\u001b[38;5;241m*\u001b[39m \u001b[38;5;241m2\u001b[39m)\n",
      "File \u001b[0;32m~/jax_ws/.venv_jax/lib/python3.10/site-packages/trajax/optimizers.py:546\u001b[0m, in \u001b[0;36milqr\u001b[0;34m()\u001b[0m\n\u001b[1;32m    545\u001b[0m \u001b[38;5;28;01mif\u001b[39;00m vjp_method \u001b[38;5;241m==\u001b[39m \u001b[38;5;124m'\u001b[39m\u001b[38;5;124mexplicit\u001b[39m\u001b[38;5;124m'\u001b[39m:\n\u001b[0;32m--> 546\u001b[0m   \u001b[38;5;28;01mreturn\u001b[39;00m _ilqr_explicit_vjp(new_cost_fn, new_dynamics_fn, x0, U,\n\u001b[1;32m    547\u001b[0m                             (\u001b[38;5;28mtuple\u001b[39m(cost_args),), (\u001b[38;5;28mtuple\u001b[39m(dynamics_args),),\n\u001b[1;32m    548\u001b[0m                             maxiter, grad_norm_threshold,\n\u001b[1;32m    549\u001b[0m                             relative_grad_norm_threshold, obj_step_threshold,\n\u001b[1;32m    550\u001b[0m                             inputs_step_threshold, make_psd, psd_delta,\n\u001b[1;32m    551\u001b[0m                             alpha_0, alpha_min, vjp_options)\n\u001b[1;32m    552\u001b[0m \u001b[38;5;28;01melif\u001b[39;00m vjp_method \u001b[38;5;241m==\u001b[39m \u001b[38;5;124m'\u001b[39m\u001b[38;5;124mcg\u001b[39m\u001b[38;5;124m'\u001b[39m:\n",
      "\u001b[0;31mJaxStackTraceBeforeTransformation\u001b[0m: AttributeError: jax.tree_map was removed in JAX v0.6.0: use jax.tree.map (jax v0.4.25 or newer) or jax.tree_util.tree_map (any JAX version).\n\nThe preceding stack trace is the source of the JAX operation that, once transformed by JAX, triggered the following exception.\n\n--------------------",
      "\nThe above exception was the direct cause of the following exception:\n",
      "\u001b[0;31mAttributeError\u001b[0m                            Traceback (most recent call last)",
      "Cell \u001b[0;32mIn[48], line 1\u001b[0m\n\u001b[0;32m----> 1\u001b[0m cost_grad \u001b[38;5;241m=\u001b[39m \u001b[43mjax\u001b[49m\u001b[38;5;241;43m.\u001b[39;49m\u001b[43mgrad\u001b[49m\u001b[43m(\u001b[49m\u001b[43macrobot_control_effort\u001b[49m\u001b[43m,\u001b[49m\u001b[43m \u001b[49m\u001b[43margnums\u001b[49m\u001b[38;5;241;43m=\u001b[39;49m\u001b[38;5;241;43m1\u001b[39;49m\u001b[43m)\u001b[49m\u001b[43m(\u001b[49m\n\u001b[1;32m      2\u001b[0m \u001b[43m    \u001b[49m\u001b[43mdynamics_params\u001b[49m\u001b[43m,\u001b[49m\u001b[43m \u001b[49m\u001b[43mcost_params\u001b[49m\u001b[43m)\u001b[49m\n\u001b[1;32m      3\u001b[0m printer\u001b[38;5;241m.\u001b[39mpprint(jax\u001b[38;5;241m.\u001b[39mtree\u001b[38;5;241m.\u001b[39mmap(\u001b[38;5;28mfloat\u001b[39m, cost_grad))\n",
      "    \u001b[0;31m[... skipping hidden 15 frame]\u001b[0m\n",
      "File \u001b[0;32m~/jax_ws/.venv_jax/lib/python3.10/site-packages/trajax/optimizers.py:699\u001b[0m, in \u001b[0;36m_ilqr_explicit_bwd\u001b[0;34m(solve_hess_inv_v_fn, cost, dynamics, fwd_residuals, gX_gU_gNonDifferentiableOutputs)\u001b[0m\n\u001b[1;32m    695\u001b[0m   \u001b[38;5;28;01mreturn\u001b[39;00m _objective_template(cost, dynamics, U, x0, cost_args, dynamics_args)\n\u001b[1;32m    696\u001b[0m _, rhs_vjp_fn \u001b[38;5;241m=\u001b[39m jax\u001b[38;5;241m.\u001b[39mvjp(\n\u001b[1;32m    697\u001b[0m     \u001b[38;5;28;01mlambda\u001b[39;00m flat_params: jax\u001b[38;5;241m.\u001b[39mgrad(obj_fn, argnums\u001b[38;5;241m=\u001b[39m\u001b[38;5;241m0\u001b[39m)(U_star, flat_params),\n\u001b[1;32m    698\u001b[0m     flat_params)\n\u001b[0;32m--> 699\u001b[0m grad_thru_U, \u001b[38;5;241m=\u001b[39m \u001b[43m_pytree_negate\u001b[49m\u001b[43m(\u001b[49m\u001b[43mrhs_vjp_fn\u001b[49m\u001b[43m(\u001b[49m\u001b[43mlhs\u001b[49m\u001b[43m)\u001b[49m\u001b[43m)\u001b[49m\n\u001b[1;32m    701\u001b[0m zeros_like_args \u001b[38;5;241m=\u001b[39m _pytree_zeros_like(args)\n\u001b[1;32m    702\u001b[0m gradients \u001b[38;5;241m=\u001b[39m unflatten_params(grad_thru_U \u001b[38;5;241m+\u001b[39m grad_thru_X)\n",
      "File \u001b[0;32m~/jax_ws/.venv_jax/lib/python3.10/site-packages/trajax/optimizers.py:81\u001b[0m, in \u001b[0;36m_pytree_negate\u001b[0;34m(tree)\u001b[0m\n\u001b[1;32m     80\u001b[0m \u001b[38;5;28;01mdef\u001b[39;00m\u001b[38;5;250m \u001b[39m\u001b[38;5;21m_pytree_negate\u001b[39m(tree):\n\u001b[0;32m---> 81\u001b[0m   \u001b[38;5;28;01mreturn\u001b[39;00m \u001b[43m_pytree_scale\u001b[49m\u001b[43m(\u001b[49m\u001b[43mtree\u001b[49m\u001b[43m,\u001b[49m\u001b[43m \u001b[49m\u001b[38;5;241;43m-\u001b[39;49m\u001b[38;5;241;43m1.0\u001b[39;49m\u001b[43m)\u001b[49m\n",
      "File \u001b[0;32m~/jax_ws/.venv_jax/lib/python3.10/site-packages/trajax/optimizers.py:77\u001b[0m, in \u001b[0;36m_pytree_scale\u001b[0;34m(tree, scale)\u001b[0m\n\u001b[1;32m     76\u001b[0m \u001b[38;5;28;01mdef\u001b[39;00m\u001b[38;5;250m \u001b[39m\u001b[38;5;21m_pytree_scale\u001b[39m(tree, scale):\n\u001b[0;32m---> 77\u001b[0m   \u001b[38;5;28;01mreturn\u001b[39;00m \u001b[43mjax\u001b[49m\u001b[38;5;241;43m.\u001b[39;49m\u001b[43mtree_map\u001b[49m(\u001b[38;5;28;01mlambda\u001b[39;00m leaf: scale \u001b[38;5;241m*\u001b[39m leaf, tree)\n",
      "File \u001b[0;32m~/jax_ws/.venv_jax/lib/python3.10/site-packages/jax/_src/deprecations.py:54\u001b[0m, in \u001b[0;36mdeprecation_getattr.<locals>.getattr\u001b[0;34m(name)\u001b[0m\n\u001b[1;32m     52\u001b[0m message, fn \u001b[38;5;241m=\u001b[39m deprecations[name]\n\u001b[1;32m     53\u001b[0m \u001b[38;5;28;01mif\u001b[39;00m fn \u001b[38;5;129;01mis\u001b[39;00m \u001b[38;5;28;01mNone\u001b[39;00m:  \u001b[38;5;66;03m# Is the deprecation accelerated?\u001b[39;00m\n\u001b[0;32m---> 54\u001b[0m   \u001b[38;5;28;01mraise\u001b[39;00m \u001b[38;5;167;01mAttributeError\u001b[39;00m(message)\n\u001b[1;32m     55\u001b[0m warnings\u001b[38;5;241m.\u001b[39mwarn(message, \u001b[38;5;167;01mDeprecationWarning\u001b[39;00m, stacklevel\u001b[38;5;241m=\u001b[39m\u001b[38;5;241m2\u001b[39m)\n\u001b[1;32m     56\u001b[0m \u001b[38;5;28;01mreturn\u001b[39;00m fn\n",
      "\u001b[0;31mAttributeError\u001b[0m: jax.tree_map was removed in JAX v0.6.0: use jax.tree.map (jax v0.4.25 or newer) or jax.tree_util.tree_map (any JAX version)."
     ]
    }
   ],
   "source": [
    "cost_grad = jax.grad(acrobot_control_effort, argnums=1)(\n",
    "    dynamics_params, cost_params)\n",
    "printer.pprint(jax.tree.map(float, cost_grad))\n"
   ]
  },
  {
   "cell_type": "code",
   "execution_count": 17,
   "id": "6cefccbf",
   "metadata": {},
   "outputs": [],
   "source": [
    "import jax\n",
    "import os\n",
    "import time\n",
    "import gc\n",
    "import psutil\n",
    "from contextlib import nullcontext\n",
    "\n",
    "process = psutil.Process(os.getpid())\n",
    "\n",
    "\n",
    "def mem_mb():\n",
    "    return process.memory_info().rss / (1024 ** 2)\n",
    "\n",
    "\n",
    "def cpu_percent(duration=0.5):\n",
    "    process.cpu_percent(interval=None)\n",
    "    return process.cpu_percent(interval=duration)\n",
    "\n",
    "\n",
    "def profile_runtime(device=None):\n",
    "    if isinstance(device, str):\n",
    "        available = jax.devices(device)\n",
    "        if not available:\n",
    "            raise RuntimeError(f\"No {device} devices found.\")\n",
    "        target = available[0]\n",
    "        device_kind = device\n",
    "    elif device is None:\n",
    "        target = None\n",
    "        device_kind = jax.default_backend()\n",
    "    else:\n",
    "        target = device\n",
    "        device_kind = device.platform\n",
    "\n",
    "    context = jax.default_device(target) if target else nullcontext()\n",
    "\n",
    "    with context:\n",
    "        local_U = jax.device_put(U, target) if target else U\n",
    "        local_x0 = jax.device_put(x0, target) if target else x0\n",
    "        local_params = jax.device_put(params, target) if target else params\n",
    "        x0_coords = state_to_gen_coords(local_x0)\n",
    "\n",
    "        warm_opt_state = opt.init(local_U)\n",
    "        pytree_block_until_ready(step(local_U, warm_opt_state, local_x0, local_params))\n",
    "        pytree_block_until_ready(value_and_grad_obj(local_U, local_x0, local_params))\n",
    "        pytree_block_until_ready(ilqr_solve(x0_coords, local_U, local_params))\n",
    "\n",
    "        gc.collect()\n",
    "        baseline_mem = mem_mb()\n",
    "        baseline_cpu = cpu_percent(0.1)\n",
    "\n",
    "        opt_state_tmp = opt.init(local_U)\n",
    "\n",
    "        start = time.perf_counter()\n",
    "        step_outputs = step(local_U, opt_state_tmp, local_x0, local_params)\n",
    "        pytree_block_until_ready(step_outputs)\n",
    "        step_eval = time.perf_counter() - start\n",
    "        step_mem = mem_mb()\n",
    "        step_cpu = cpu_percent(0.1)\n",
    "\n",
    "        start = time.perf_counter()\n",
    "        vg_outputs = value_and_grad_obj(local_U, local_x0, local_params)\n",
    "        pytree_block_until_ready(vg_outputs)\n",
    "        value_grad_eval = time.perf_counter() - start\n",
    "        value_grad_mem = mem_mb()\n",
    "        value_grad_cpu = cpu_percent(0.1)\n",
    "\n",
    "        start = time.perf_counter()\n",
    "        ilqr_outputs = ilqr_solve(x0_coords, local_U, local_params)\n",
    "        pytree_block_until_ready(ilqr_outputs)\n",
    "        ilqr_eval = time.perf_counter() - start\n",
    "        ilqr_mem = mem_mb()\n",
    "        ilqr_cpu = cpu_percent(0.1)\n",
    "\n",
    "    return {\n",
    "        \"device_kind\": device_kind,\n",
    "        \"device\": str(target or jax.devices()[0]),\n",
    "        \"baseline_mem_mb\": baseline_mem,\n",
    "        \"baseline_cpu_pct\": baseline_cpu,\n",
    "        \"step_eval_s\": step_eval,\n",
    "        \"step_mem_mb\": step_mem,\n",
    "        \"step_cpu_pct\": step_cpu,\n",
    "        \"value_grad_eval_s\": value_grad_eval,\n",
    "        \"value_grad_mem_mb\": value_grad_mem,\n",
    "        \"value_grad_cpu_pct\": value_grad_cpu,\n",
    "        \"ilqr_eval_s\": ilqr_eval,\n",
    "        \"ilqr_mem_mb\": ilqr_mem,\n",
    "        \"ilqr_cpu_pct\": ilqr_cpu,\n",
    "    }"
   ]
  },
  {
   "cell_type": "code",
   "execution_count": 18,
   "id": "24e5b407",
   "metadata": {},
   "outputs": [
    {
     "name": "stdout",
     "output_type": "stream",
     "text": [
      "CPU results:\n",
      "  device_kind: cpu\n",
      "  device: TFRT_CPU_0\n",
      "  baseline_mem_mb: 11838.2734\n",
      "  baseline_cpu_pct: 10.0000\n",
      "  step_eval_s: 0.0413\n",
      "  step_mem_mb: 11838.2734\n",
      "  step_cpu_pct: 0.0000\n",
      "  value_grad_eval_s: 0.0277\n",
      "  value_grad_mem_mb: 11838.2734\n",
      "  value_grad_cpu_pct: 0.0000\n",
      "  ilqr_eval_s: 5.4504\n",
      "  ilqr_mem_mb: 11838.6484\n",
      "  ilqr_cpu_pct: 0.0000\n",
      "\n",
      "GPU results:\n",
      "  device_kind: gpu\n",
      "  device: cuda:0\n",
      "  baseline_mem_mb: 11838.6484\n",
      "  baseline_cpu_pct: 0.0000\n",
      "  step_eval_s: 0.2162\n",
      "  step_mem_mb: 11838.6484\n",
      "  step_cpu_pct: 0.0000\n",
      "  value_grad_eval_s: 0.2094\n",
      "  value_grad_mem_mb: 11838.6484\n",
      "  value_grad_cpu_pct: 0.0000\n",
      "  ilqr_eval_s: 12.0701\n",
      "  ilqr_mem_mb: 11838.6484\n",
      "  ilqr_cpu_pct: 0.0000\n",
      "\n",
      "Relative speedups (CPU time / GPU time):\n",
      "  step_eval_s: 0.19x\n",
      "  value_grad_eval_s: 0.13x\n",
      "  ilqr_eval_s: 0.45x\n",
      "Memory usage delta (CPU - GPU) in MB:\n",
      "  step_mem_mb: -0.4\n",
      "  value_grad_mem_mb: -0.4\n",
      "  ilqr_mem_mb: 0.0\n"
     ]
    }
   ],
   "source": [
    "profiles = {}\n",
    "profiles[\"cpu\"] = profile_runtime(\"cpu\")\n",
    "\n",
    "try:\n",
    "    gpu_device = jax.devices(\"gpu\")[0]\n",
    "except (RuntimeError, IndexError):\n",
    "    gpu_device = None\n",
    "\n",
    "if gpu_device is not None:\n",
    "    profiles[\"gpu\"] = profile_runtime(gpu_device)\n",
    "else:\n",
    "    print(\"No GPU detected; skipping GPU profiling.\")\n",
    "\n",
    "for kind, metrics in profiles.items():\n",
    "    print(f\"{kind.upper()} results:\")\n",
    "    for key, value in metrics.items():\n",
    "        if isinstance(value, (int, float, np.floating)):\n",
    "            print(f\"  {key}: {value:.4f}\")\n",
    "        else:\n",
    "            print(f\"  {key}: {value}\")\n",
    "    print()\n",
    "\n",
    "if \"cpu\" in profiles and \"gpu\" in profiles:\n",
    "    print(\"Relative speedups (CPU time / GPU time):\")\n",
    "    for metric in (\"step_eval_s\", \"value_grad_eval_s\", \"ilqr_eval_s\"):\n",
    "        cpu_val = profiles[\"cpu\"][metric]\n",
    "        gpu_val = profiles[\"gpu\"][metric]\n",
    "        if gpu_val > 0:\n",
    "            print(f\"  {metric}: {cpu_val / gpu_val:.2f}x\")\n",
    "\n",
    "    print(\"Memory usage delta (CPU - GPU) in MB:\")\n",
    "    for metric in (\"step_mem_mb\", \"value_grad_mem_mb\", \"ilqr_mem_mb\"):\n",
    "        cpu_mem = profiles[\"cpu\"][metric]\n",
    "        gpu_mem = profiles[\"gpu\"][metric]\n",
    "        print(f\"  {metric}: {cpu_mem - gpu_mem:.1f}\")"
   ]
  }
 ],
 "metadata": {
  "kernelspec": {
   "display_name": ".venv_jax",
   "language": "python",
   "name": "python3"
  },
  "language_info": {
   "codemirror_mode": {
    "name": "ipython",
    "version": 3
   },
   "file_extension": ".py",
   "mimetype": "text/x-python",
   "name": "python",
   "nbconvert_exporter": "python",
   "pygments_lexer": "ipython3",
   "version": "3.10.12"
  }
 },
 "nbformat": 4,
 "nbformat_minor": 5
}
